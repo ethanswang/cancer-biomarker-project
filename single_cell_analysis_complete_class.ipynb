{
 "cells": [
  {
   "cell_type": "code",
   "execution_count": 25,
   "id": "24ace10b",
   "metadata": {},
   "outputs": [
    {
     "name": "stdout",
     "output_type": "stream",
     "text": [
      "Requirement already satisfied: scanpy in /Users/zhiyongw/venv/Test/lib/python3.10/site-packages (1.9.6)\n",
      "Requirement already satisfied: anndata>=0.7.4 in /Users/zhiyongw/venv/Test/lib/python3.10/site-packages (from scanpy) (0.10.3)\n",
      "Requirement already satisfied: h5py>=3 in /Users/zhiyongw/venv/Test/lib/python3.10/site-packages (from scanpy) (3.10.0)\n",
      "Requirement already satisfied: joblib in /Users/zhiyongw/venv/Test/lib/python3.10/site-packages (from scanpy) (1.3.2)\n",
      "Requirement already satisfied: matplotlib>=3.4 in /Users/zhiyongw/venv/Test/lib/python3.10/site-packages (from scanpy) (3.8.2)\n",
      "Requirement already satisfied: natsort in /Users/zhiyongw/venv/Test/lib/python3.10/site-packages (from scanpy) (8.4.0)\n",
      "Requirement already satisfied: networkx>=2.3 in /Users/zhiyongw/venv/Test/lib/python3.10/site-packages (from scanpy) (3.2.1)\n",
      "Requirement already satisfied: numba>=0.41.0 in /Users/zhiyongw/venv/Test/lib/python3.10/site-packages (from scanpy) (0.58.1)\n",
      "Requirement already satisfied: numpy>=1.17.0 in /Users/zhiyongw/venv/Test/lib/python3.10/site-packages (from scanpy) (1.26.2)\n",
      "Requirement already satisfied: packaging in /Users/zhiyongw/venv/Test/lib/python3.10/site-packages (from scanpy) (23.2)\n",
      "Requirement already satisfied: pandas!=2.1.2,>=1.1.1 in /Users/zhiyongw/venv/Test/lib/python3.10/site-packages (from scanpy) (2.1.4)\n",
      "Requirement already satisfied: patsy in /Users/zhiyongw/venv/Test/lib/python3.10/site-packages (from scanpy) (0.5.4)\n",
      "Requirement already satisfied: scikit-learn>=0.24 in /Users/zhiyongw/venv/Test/lib/python3.10/site-packages (from scanpy) (1.3.2)\n",
      "Requirement already satisfied: scipy>=1.4 in /Users/zhiyongw/venv/Test/lib/python3.10/site-packages (from scanpy) (1.11.4)\n",
      "Requirement already satisfied: seaborn!=0.13.0 in /Users/zhiyongw/venv/Test/lib/python3.10/site-packages (from scanpy) (0.12.2)\n",
      "Requirement already satisfied: session-info in /Users/zhiyongw/venv/Test/lib/python3.10/site-packages (from scanpy) (1.0.0)\n",
      "Requirement already satisfied: statsmodels>=0.10.0rc2 in /Users/zhiyongw/venv/Test/lib/python3.10/site-packages (from scanpy) (0.14.1)\n",
      "Requirement already satisfied: tqdm in /Users/zhiyongw/venv/Test/lib/python3.10/site-packages (from scanpy) (4.66.1)\n",
      "Requirement already satisfied: umap-learn>=0.3.10 in /Users/zhiyongw/venv/Test/lib/python3.10/site-packages (from scanpy) (0.5.5)\n",
      "Requirement already satisfied: array-api-compat in /Users/zhiyongw/venv/Test/lib/python3.10/site-packages (from anndata>=0.7.4->scanpy) (1.4)\n",
      "Requirement already satisfied: exceptiongroup in /Users/zhiyongw/venv/Test/lib/python3.10/site-packages (from anndata>=0.7.4->scanpy) (1.2.0)\n",
      "Requirement already satisfied: contourpy>=1.0.1 in /Users/zhiyongw/venv/Test/lib/python3.10/site-packages (from matplotlib>=3.4->scanpy) (1.2.0)\n",
      "Requirement already satisfied: cycler>=0.10 in /Users/zhiyongw/venv/Test/lib/python3.10/site-packages (from matplotlib>=3.4->scanpy) (0.12.1)\n",
      "Requirement already satisfied: fonttools>=4.22.0 in /Users/zhiyongw/venv/Test/lib/python3.10/site-packages (from matplotlib>=3.4->scanpy) (4.47.0)\n",
      "Requirement already satisfied: kiwisolver>=1.3.1 in /Users/zhiyongw/venv/Test/lib/python3.10/site-packages (from matplotlib>=3.4->scanpy) (1.4.5)\n",
      "Requirement already satisfied: pillow>=8 in /Users/zhiyongw/venv/Test/lib/python3.10/site-packages (from matplotlib>=3.4->scanpy) (10.1.0)\n",
      "Requirement already satisfied: pyparsing>=2.3.1 in /Users/zhiyongw/venv/Test/lib/python3.10/site-packages (from matplotlib>=3.4->scanpy) (3.1.1)\n",
      "Requirement already satisfied: python-dateutil>=2.7 in /Users/zhiyongw/venv/Test/lib/python3.10/site-packages (from matplotlib>=3.4->scanpy) (2.8.2)\n",
      "Requirement already satisfied: llvmlite<0.42,>=0.41.0dev0 in /Users/zhiyongw/venv/Test/lib/python3.10/site-packages (from numba>=0.41.0->scanpy) (0.41.1)\n",
      "Requirement already satisfied: pytz>=2020.1 in /Users/zhiyongw/venv/Test/lib/python3.10/site-packages (from pandas!=2.1.2,>=1.1.1->scanpy) (2023.3.post1)\n",
      "Requirement already satisfied: tzdata>=2022.1 in /Users/zhiyongw/venv/Test/lib/python3.10/site-packages (from pandas!=2.1.2,>=1.1.1->scanpy) (2023.3)\n",
      "Requirement already satisfied: threadpoolctl>=2.0.0 in /Users/zhiyongw/venv/Test/lib/python3.10/site-packages (from scikit-learn>=0.24->scanpy) (3.2.0)\n",
      "Requirement already satisfied: six in /Users/zhiyongw/venv/Test/lib/python3.10/site-packages (from patsy->scanpy) (1.16.0)\n",
      "Requirement already satisfied: pynndescent>=0.5 in /Users/zhiyongw/venv/Test/lib/python3.10/site-packages (from umap-learn>=0.3.10->scanpy) (0.5.11)\n",
      "Requirement already satisfied: stdlib_list in /Users/zhiyongw/venv/Test/lib/python3.10/site-packages (from session-info->scanpy) (0.10.0)\n"
     ]
    }
   ],
   "source": [
    "!pip install scanpy"
   ]
  },
  {
   "cell_type": "code",
   "execution_count": 26,
   "id": "eceaf51e",
   "metadata": {},
   "outputs": [],
   "source": [
    "import scanpy as sc"
   ]
  },
  {
   "cell_type": "code",
   "execution_count": 27,
   "id": "3907497d",
   "metadata": {},
   "outputs": [
    {
     "name": "stderr",
     "output_type": "stream",
     "text": [
      "/Users/zhiyongw/venv/Test/lib/python3.10/site-packages/anndata/__init__.py:51: FutureWarning: `anndata.read` is deprecated, use `anndata.read_h5ad` instead. `ad.read` will be removed in mid 2024.\n",
      "  warnings.warn(\n"
     ]
    },
    {
     "data": {
      "text/plain": [
       "AnnData object with n_obs × n_vars = 166533 × 24850\n",
       "    var: 'gene_ids', 'feature_types'"
      ]
     },
     "execution_count": 27,
     "metadata": {},
     "output_type": "execute_result"
    }
   ],
   "source": [
    "adata = sc.read_10x_mtx(path='All_cell_matrix',cache=True)\n",
    "adata"
   ]
  },
  {
   "cell_type": "code",
   "execution_count": 28,
   "id": "47d94388",
   "metadata": {},
   "outputs": [],
   "source": [
    "import pandas as pd"
   ]
  },
  {
   "cell_type": "code",
   "execution_count": 29,
   "id": "f8385498-6901-430a-ab77-9410ef19f56f",
   "metadata": {},
   "outputs": [
    {
     "data": {
      "text/html": [
       "<div>\n",
       "<style scoped>\n",
       "    .dataframe tbody tr th:only-of-type {\n",
       "        vertical-align: middle;\n",
       "    }\n",
       "\n",
       "    .dataframe tbody tr th {\n",
       "        vertical-align: top;\n",
       "    }\n",
       "\n",
       "    .dataframe thead th {\n",
       "        text-align: right;\n",
       "    }\n",
       "</style>\n",
       "<table border=\"1\" class=\"dataframe\">\n",
       "  <thead>\n",
       "    <tr style=\"text-align: right;\">\n",
       "      <th></th>\n",
       "      <th>batch</th>\n",
       "      <th>n_counts</th>\n",
       "      <th>n_genes</th>\n",
       "      <th>percent_mito</th>\n",
       "      <th>patient</th>\n",
       "      <th>tissue</th>\n",
       "      <th>cluster</th>\n",
       "      <th>cluster_color</th>\n",
       "      <th>TCR_BCR</th>\n",
       "      <th>UMAP_x</th>\n",
       "      <th>UMAP_y</th>\n",
       "    </tr>\n",
       "    <tr>\n",
       "      <th></th>\n",
       "      <th></th>\n",
       "      <th></th>\n",
       "      <th></th>\n",
       "      <th></th>\n",
       "      <th></th>\n",
       "      <th></th>\n",
       "      <th></th>\n",
       "      <th></th>\n",
       "      <th></th>\n",
       "      <th></th>\n",
       "      <th></th>\n",
       "    </tr>\n",
       "  </thead>\n",
       "  <tbody>\n",
       "    <tr>\n",
       "      <th>GC10B:AAACCTGAGACAGACC</th>\n",
       "      <td>GC10B</td>\n",
       "      <td>3558.0</td>\n",
       "      <td>1592</td>\n",
       "      <td>0.043845</td>\n",
       "      <td>GC10</td>\n",
       "      <td>Blood</td>\n",
       "      <td>T cells &amp; NK cells</td>\n",
       "      <td>#ffbb78</td>\n",
       "      <td>others</td>\n",
       "      <td>-13.374247</td>\n",
       "      <td>6.490090</td>\n",
       "    </tr>\n",
       "    <tr>\n",
       "      <th>GC10B:AAACCTGAGAGCTTCT</th>\n",
       "      <td>GC10B</td>\n",
       "      <td>552.0</td>\n",
       "      <td>403</td>\n",
       "      <td>0.007246</td>\n",
       "      <td>GC10</td>\n",
       "      <td>Blood</td>\n",
       "      <td>Myeloid cells</td>\n",
       "      <td>#17becf</td>\n",
       "      <td>others</td>\n",
       "      <td>-2.030192</td>\n",
       "      <td>9.041772</td>\n",
       "    </tr>\n",
       "    <tr>\n",
       "      <th>GC10B:AAACCTGAGCCGATTT</th>\n",
       "      <td>GC10B</td>\n",
       "      <td>3366.0</td>\n",
       "      <td>1501</td>\n",
       "      <td>0.064765</td>\n",
       "      <td>GC10</td>\n",
       "      <td>Blood</td>\n",
       "      <td>T cells &amp; NK cells</td>\n",
       "      <td>#ffbb78</td>\n",
       "      <td>others</td>\n",
       "      <td>-13.923049</td>\n",
       "      <td>5.872977</td>\n",
       "    </tr>\n",
       "    <tr>\n",
       "      <th>GC10B:AAACCTGAGCTAGTTC</th>\n",
       "      <td>GC10B</td>\n",
       "      <td>4495.0</td>\n",
       "      <td>1280</td>\n",
       "      <td>0.053393</td>\n",
       "      <td>GC10</td>\n",
       "      <td>Blood</td>\n",
       "      <td>T cells &amp; NK cells</td>\n",
       "      <td>#ffbb78</td>\n",
       "      <td>TCR_detected</td>\n",
       "      <td>1.637775</td>\n",
       "      <td>4.521393</td>\n",
       "    </tr>\n",
       "    <tr>\n",
       "      <th>GC10B:AAACCTGAGGGTCGAT</th>\n",
       "      <td>GC10B</td>\n",
       "      <td>6313.0</td>\n",
       "      <td>1905</td>\n",
       "      <td>0.044036</td>\n",
       "      <td>GC10</td>\n",
       "      <td>Blood</td>\n",
       "      <td>Myeloid cells</td>\n",
       "      <td>#17becf</td>\n",
       "      <td>others</td>\n",
       "      <td>-4.094482</td>\n",
       "      <td>11.872542</td>\n",
       "    </tr>\n",
       "    <tr>\n",
       "      <th>...</th>\n",
       "      <td>...</td>\n",
       "      <td>...</td>\n",
       "      <td>...</td>\n",
       "      <td>...</td>\n",
       "      <td>...</td>\n",
       "      <td>...</td>\n",
       "      <td>...</td>\n",
       "      <td>...</td>\n",
       "      <td>...</td>\n",
       "      <td>...</td>\n",
       "      <td>...</td>\n",
       "    </tr>\n",
       "    <tr>\n",
       "      <th>GC09T:TTTGTCAGTAATTGGA</th>\n",
       "      <td>GC09T</td>\n",
       "      <td>3268.0</td>\n",
       "      <td>1332</td>\n",
       "      <td>0.055386</td>\n",
       "      <td>GC09</td>\n",
       "      <td>Tumor</td>\n",
       "      <td>T cells &amp; NK cells</td>\n",
       "      <td>#ffbb78</td>\n",
       "      <td>TCR_detected</td>\n",
       "      <td>-9.077943</td>\n",
       "      <td>-1.229352</td>\n",
       "    </tr>\n",
       "    <tr>\n",
       "      <th>GC09T:TTTGTCAGTGACAAAT</th>\n",
       "      <td>GC09T</td>\n",
       "      <td>12476.0</td>\n",
       "      <td>2124</td>\n",
       "      <td>0.034466</td>\n",
       "      <td>GC09</td>\n",
       "      <td>Tumor</td>\n",
       "      <td>B cells(Plasma cells)</td>\n",
       "      <td>#ff7f0e</td>\n",
       "      <td>BCR_detected</td>\n",
       "      <td>11.663207</td>\n",
       "      <td>1.158398</td>\n",
       "    </tr>\n",
       "    <tr>\n",
       "      <th>GC09T:TTTGTCAGTGTTGAGG</th>\n",
       "      <td>GC09T</td>\n",
       "      <td>5555.0</td>\n",
       "      <td>1898</td>\n",
       "      <td>0.067327</td>\n",
       "      <td>GC09</td>\n",
       "      <td>Tumor</td>\n",
       "      <td>B cells</td>\n",
       "      <td>#1f77b4</td>\n",
       "      <td>others</td>\n",
       "      <td>7.225957</td>\n",
       "      <td>6.477765</td>\n",
       "    </tr>\n",
       "    <tr>\n",
       "      <th>GC09T:TTTGTCATCAGCTTAG</th>\n",
       "      <td>GC09T</td>\n",
       "      <td>2470.0</td>\n",
       "      <td>1059</td>\n",
       "      <td>0.031984</td>\n",
       "      <td>GC09</td>\n",
       "      <td>Tumor</td>\n",
       "      <td>B cells</td>\n",
       "      <td>#1f77b4</td>\n",
       "      <td>others</td>\n",
       "      <td>5.668129</td>\n",
       "      <td>8.182839</td>\n",
       "    </tr>\n",
       "    <tr>\n",
       "      <th>GC09T:TTTGTCATCGTCCAGG</th>\n",
       "      <td>GC09T</td>\n",
       "      <td>4700.0</td>\n",
       "      <td>1348</td>\n",
       "      <td>0.042979</td>\n",
       "      <td>GC09</td>\n",
       "      <td>Tumor</td>\n",
       "      <td>T cells &amp; NK cells</td>\n",
       "      <td>#ffbb78</td>\n",
       "      <td>TCR_detected</td>\n",
       "      <td>0.315234</td>\n",
       "      <td>1.155364</td>\n",
       "    </tr>\n",
       "  </tbody>\n",
       "</table>\n",
       "<p>166533 rows × 11 columns</p>\n",
       "</div>"
      ],
      "text/plain": [
       "                        batch  n_counts  n_genes  percent_mito patient tissue  \\\n",
       "                                                                                \n",
       "GC10B:AAACCTGAGACAGACC  GC10B    3558.0     1592      0.043845    GC10  Blood   \n",
       "GC10B:AAACCTGAGAGCTTCT  GC10B     552.0      403      0.007246    GC10  Blood   \n",
       "GC10B:AAACCTGAGCCGATTT  GC10B    3366.0     1501      0.064765    GC10  Blood   \n",
       "GC10B:AAACCTGAGCTAGTTC  GC10B    4495.0     1280      0.053393    GC10  Blood   \n",
       "GC10B:AAACCTGAGGGTCGAT  GC10B    6313.0     1905      0.044036    GC10  Blood   \n",
       "...                       ...       ...      ...           ...     ...    ...   \n",
       "GC09T:TTTGTCAGTAATTGGA  GC09T    3268.0     1332      0.055386    GC09  Tumor   \n",
       "GC09T:TTTGTCAGTGACAAAT  GC09T   12476.0     2124      0.034466    GC09  Tumor   \n",
       "GC09T:TTTGTCAGTGTTGAGG  GC09T    5555.0     1898      0.067327    GC09  Tumor   \n",
       "GC09T:TTTGTCATCAGCTTAG  GC09T    2470.0     1059      0.031984    GC09  Tumor   \n",
       "GC09T:TTTGTCATCGTCCAGG  GC09T    4700.0     1348      0.042979    GC09  Tumor   \n",
       "\n",
       "                                      cluster cluster_color       TCR_BCR  \\\n",
       "                                                                            \n",
       "GC10B:AAACCTGAGACAGACC     T cells & NK cells       #ffbb78        others   \n",
       "GC10B:AAACCTGAGAGCTTCT          Myeloid cells       #17becf        others   \n",
       "GC10B:AAACCTGAGCCGATTT     T cells & NK cells       #ffbb78        others   \n",
       "GC10B:AAACCTGAGCTAGTTC     T cells & NK cells       #ffbb78  TCR_detected   \n",
       "GC10B:AAACCTGAGGGTCGAT          Myeloid cells       #17becf        others   \n",
       "...                                       ...           ...           ...   \n",
       "GC09T:TTTGTCAGTAATTGGA     T cells & NK cells       #ffbb78  TCR_detected   \n",
       "GC09T:TTTGTCAGTGACAAAT  B cells(Plasma cells)       #ff7f0e  BCR_detected   \n",
       "GC09T:TTTGTCAGTGTTGAGG                B cells       #1f77b4        others   \n",
       "GC09T:TTTGTCATCAGCTTAG                B cells       #1f77b4        others   \n",
       "GC09T:TTTGTCATCGTCCAGG     T cells & NK cells       #ffbb78  TCR_detected   \n",
       "\n",
       "                           UMAP_x     UMAP_y  \n",
       "                                              \n",
       "GC10B:AAACCTGAGACAGACC -13.374247   6.490090  \n",
       "GC10B:AAACCTGAGAGCTTCT  -2.030192   9.041772  \n",
       "GC10B:AAACCTGAGCCGATTT -13.923049   5.872977  \n",
       "GC10B:AAACCTGAGCTAGTTC   1.637775   4.521393  \n",
       "GC10B:AAACCTGAGGGTCGAT  -4.094482  11.872542  \n",
       "...                           ...        ...  \n",
       "GC09T:TTTGTCAGTAATTGGA  -9.077943  -1.229352  \n",
       "GC09T:TTTGTCAGTGACAAAT  11.663207   1.158398  \n",
       "GC09T:TTTGTCAGTGTTGAGG   7.225957   6.477765  \n",
       "GC09T:TTTGTCATCAGCTTAG   5.668129   8.182839  \n",
       "GC09T:TTTGTCATCGTCCAGG   0.315234   1.155364  \n",
       "\n",
       "[166533 rows x 11 columns]"
      ]
     },
     "execution_count": 29,
     "metadata": {},
     "output_type": "execute_result"
    }
   ],
   "source": [
    "meta_table = pd.read_csv('All_cell_annotations.tsv', sep='\\t')\n",
    "meta_table.set_index(meta_table.columns[0],inplace=True)\n",
    "meta_table.index.name = ''\n",
    "meta_table"
   ]
  },
  {
   "cell_type": "code",
   "execution_count": 30,
   "id": "1194509a-9b91-4303-a1d8-6af7f371a1f6",
   "metadata": {},
   "outputs": [
    {
     "data": {
      "text/html": [
       "<div>\n",
       "<style scoped>\n",
       "    .dataframe tbody tr th:only-of-type {\n",
       "        vertical-align: middle;\n",
       "    }\n",
       "\n",
       "    .dataframe tbody tr th {\n",
       "        vertical-align: top;\n",
       "    }\n",
       "\n",
       "    .dataframe thead th {\n",
       "        text-align: right;\n",
       "    }\n",
       "</style>\n",
       "<table border=\"1\" class=\"dataframe\">\n",
       "  <thead>\n",
       "    <tr style=\"text-align: right;\">\n",
       "      <th></th>\n",
       "      <th>batch</th>\n",
       "      <th>n_counts</th>\n",
       "      <th>n_genes</th>\n",
       "      <th>percent_mito</th>\n",
       "      <th>patient</th>\n",
       "      <th>tissue</th>\n",
       "      <th>cluster</th>\n",
       "      <th>cluster_color</th>\n",
       "      <th>TCR_BCR</th>\n",
       "      <th>UMAP_x</th>\n",
       "      <th>UMAP_y</th>\n",
       "    </tr>\n",
       "  </thead>\n",
       "  <tbody>\n",
       "    <tr>\n",
       "      <th>GC10B:AAACCTGAGACAGACC</th>\n",
       "      <td>GC10B</td>\n",
       "      <td>3558.0</td>\n",
       "      <td>1592</td>\n",
       "      <td>0.043845</td>\n",
       "      <td>GC10</td>\n",
       "      <td>Blood</td>\n",
       "      <td>T cells &amp; NK cells</td>\n",
       "      <td>#ffbb78</td>\n",
       "      <td>others</td>\n",
       "      <td>-13.374247</td>\n",
       "      <td>6.490090</td>\n",
       "    </tr>\n",
       "    <tr>\n",
       "      <th>GC10B:AAACCTGAGAGCTTCT</th>\n",
       "      <td>GC10B</td>\n",
       "      <td>552.0</td>\n",
       "      <td>403</td>\n",
       "      <td>0.007246</td>\n",
       "      <td>GC10</td>\n",
       "      <td>Blood</td>\n",
       "      <td>Myeloid cells</td>\n",
       "      <td>#17becf</td>\n",
       "      <td>others</td>\n",
       "      <td>-2.030192</td>\n",
       "      <td>9.041772</td>\n",
       "    </tr>\n",
       "    <tr>\n",
       "      <th>GC10B:AAACCTGAGCCGATTT</th>\n",
       "      <td>GC10B</td>\n",
       "      <td>3366.0</td>\n",
       "      <td>1501</td>\n",
       "      <td>0.064765</td>\n",
       "      <td>GC10</td>\n",
       "      <td>Blood</td>\n",
       "      <td>T cells &amp; NK cells</td>\n",
       "      <td>#ffbb78</td>\n",
       "      <td>others</td>\n",
       "      <td>-13.923049</td>\n",
       "      <td>5.872977</td>\n",
       "    </tr>\n",
       "    <tr>\n",
       "      <th>GC10B:AAACCTGAGCTAGTTC</th>\n",
       "      <td>GC10B</td>\n",
       "      <td>4495.0</td>\n",
       "      <td>1280</td>\n",
       "      <td>0.053393</td>\n",
       "      <td>GC10</td>\n",
       "      <td>Blood</td>\n",
       "      <td>T cells &amp; NK cells</td>\n",
       "      <td>#ffbb78</td>\n",
       "      <td>TCR_detected</td>\n",
       "      <td>1.637775</td>\n",
       "      <td>4.521393</td>\n",
       "    </tr>\n",
       "    <tr>\n",
       "      <th>GC10B:AAACCTGAGGGTCGAT</th>\n",
       "      <td>GC10B</td>\n",
       "      <td>6313.0</td>\n",
       "      <td>1905</td>\n",
       "      <td>0.044036</td>\n",
       "      <td>GC10</td>\n",
       "      <td>Blood</td>\n",
       "      <td>Myeloid cells</td>\n",
       "      <td>#17becf</td>\n",
       "      <td>others</td>\n",
       "      <td>-4.094482</td>\n",
       "      <td>11.872542</td>\n",
       "    </tr>\n",
       "    <tr>\n",
       "      <th>...</th>\n",
       "      <td>...</td>\n",
       "      <td>...</td>\n",
       "      <td>...</td>\n",
       "      <td>...</td>\n",
       "      <td>...</td>\n",
       "      <td>...</td>\n",
       "      <td>...</td>\n",
       "      <td>...</td>\n",
       "      <td>...</td>\n",
       "      <td>...</td>\n",
       "      <td>...</td>\n",
       "    </tr>\n",
       "    <tr>\n",
       "      <th>GC09T:TTTGTCAGTAATTGGA</th>\n",
       "      <td>GC09T</td>\n",
       "      <td>3268.0</td>\n",
       "      <td>1332</td>\n",
       "      <td>0.055386</td>\n",
       "      <td>GC09</td>\n",
       "      <td>Tumor</td>\n",
       "      <td>T cells &amp; NK cells</td>\n",
       "      <td>#ffbb78</td>\n",
       "      <td>TCR_detected</td>\n",
       "      <td>-9.077943</td>\n",
       "      <td>-1.229352</td>\n",
       "    </tr>\n",
       "    <tr>\n",
       "      <th>GC09T:TTTGTCAGTGACAAAT</th>\n",
       "      <td>GC09T</td>\n",
       "      <td>12476.0</td>\n",
       "      <td>2124</td>\n",
       "      <td>0.034466</td>\n",
       "      <td>GC09</td>\n",
       "      <td>Tumor</td>\n",
       "      <td>B cells(Plasma cells)</td>\n",
       "      <td>#ff7f0e</td>\n",
       "      <td>BCR_detected</td>\n",
       "      <td>11.663207</td>\n",
       "      <td>1.158398</td>\n",
       "    </tr>\n",
       "    <tr>\n",
       "      <th>GC09T:TTTGTCAGTGTTGAGG</th>\n",
       "      <td>GC09T</td>\n",
       "      <td>5555.0</td>\n",
       "      <td>1898</td>\n",
       "      <td>0.067327</td>\n",
       "      <td>GC09</td>\n",
       "      <td>Tumor</td>\n",
       "      <td>B cells</td>\n",
       "      <td>#1f77b4</td>\n",
       "      <td>others</td>\n",
       "      <td>7.225957</td>\n",
       "      <td>6.477765</td>\n",
       "    </tr>\n",
       "    <tr>\n",
       "      <th>GC09T:TTTGTCATCAGCTTAG</th>\n",
       "      <td>GC09T</td>\n",
       "      <td>2470.0</td>\n",
       "      <td>1059</td>\n",
       "      <td>0.031984</td>\n",
       "      <td>GC09</td>\n",
       "      <td>Tumor</td>\n",
       "      <td>B cells</td>\n",
       "      <td>#1f77b4</td>\n",
       "      <td>others</td>\n",
       "      <td>5.668129</td>\n",
       "      <td>8.182839</td>\n",
       "    </tr>\n",
       "    <tr>\n",
       "      <th>GC09T:TTTGTCATCGTCCAGG</th>\n",
       "      <td>GC09T</td>\n",
       "      <td>4700.0</td>\n",
       "      <td>1348</td>\n",
       "      <td>0.042979</td>\n",
       "      <td>GC09</td>\n",
       "      <td>Tumor</td>\n",
       "      <td>T cells &amp; NK cells</td>\n",
       "      <td>#ffbb78</td>\n",
       "      <td>TCR_detected</td>\n",
       "      <td>0.315234</td>\n",
       "      <td>1.155364</td>\n",
       "    </tr>\n",
       "  </tbody>\n",
       "</table>\n",
       "<p>166533 rows × 11 columns</p>\n",
       "</div>"
      ],
      "text/plain": [
       "                        batch  n_counts  n_genes  percent_mito patient tissue  \\\n",
       "GC10B:AAACCTGAGACAGACC  GC10B    3558.0     1592      0.043845    GC10  Blood   \n",
       "GC10B:AAACCTGAGAGCTTCT  GC10B     552.0      403      0.007246    GC10  Blood   \n",
       "GC10B:AAACCTGAGCCGATTT  GC10B    3366.0     1501      0.064765    GC10  Blood   \n",
       "GC10B:AAACCTGAGCTAGTTC  GC10B    4495.0     1280      0.053393    GC10  Blood   \n",
       "GC10B:AAACCTGAGGGTCGAT  GC10B    6313.0     1905      0.044036    GC10  Blood   \n",
       "...                       ...       ...      ...           ...     ...    ...   \n",
       "GC09T:TTTGTCAGTAATTGGA  GC09T    3268.0     1332      0.055386    GC09  Tumor   \n",
       "GC09T:TTTGTCAGTGACAAAT  GC09T   12476.0     2124      0.034466    GC09  Tumor   \n",
       "GC09T:TTTGTCAGTGTTGAGG  GC09T    5555.0     1898      0.067327    GC09  Tumor   \n",
       "GC09T:TTTGTCATCAGCTTAG  GC09T    2470.0     1059      0.031984    GC09  Tumor   \n",
       "GC09T:TTTGTCATCGTCCAGG  GC09T    4700.0     1348      0.042979    GC09  Tumor   \n",
       "\n",
       "                                      cluster cluster_color       TCR_BCR  \\\n",
       "GC10B:AAACCTGAGACAGACC     T cells & NK cells       #ffbb78        others   \n",
       "GC10B:AAACCTGAGAGCTTCT          Myeloid cells       #17becf        others   \n",
       "GC10B:AAACCTGAGCCGATTT     T cells & NK cells       #ffbb78        others   \n",
       "GC10B:AAACCTGAGCTAGTTC     T cells & NK cells       #ffbb78  TCR_detected   \n",
       "GC10B:AAACCTGAGGGTCGAT          Myeloid cells       #17becf        others   \n",
       "...                                       ...           ...           ...   \n",
       "GC09T:TTTGTCAGTAATTGGA     T cells & NK cells       #ffbb78  TCR_detected   \n",
       "GC09T:TTTGTCAGTGACAAAT  B cells(Plasma cells)       #ff7f0e  BCR_detected   \n",
       "GC09T:TTTGTCAGTGTTGAGG                B cells       #1f77b4        others   \n",
       "GC09T:TTTGTCATCAGCTTAG                B cells       #1f77b4        others   \n",
       "GC09T:TTTGTCATCGTCCAGG     T cells & NK cells       #ffbb78  TCR_detected   \n",
       "\n",
       "                           UMAP_x     UMAP_y  \n",
       "GC10B:AAACCTGAGACAGACC -13.374247   6.490090  \n",
       "GC10B:AAACCTGAGAGCTTCT  -2.030192   9.041772  \n",
       "GC10B:AAACCTGAGCCGATTT -13.923049   5.872977  \n",
       "GC10B:AAACCTGAGCTAGTTC   1.637775   4.521393  \n",
       "GC10B:AAACCTGAGGGTCGAT  -4.094482  11.872542  \n",
       "...                           ...        ...  \n",
       "GC09T:TTTGTCAGTAATTGGA  -9.077943  -1.229352  \n",
       "GC09T:TTTGTCAGTGACAAAT  11.663207   1.158398  \n",
       "GC09T:TTTGTCAGTGTTGAGG   7.225957   6.477765  \n",
       "GC09T:TTTGTCATCAGCTTAG   5.668129   8.182839  \n",
       "GC09T:TTTGTCATCGTCCAGG   0.315234   1.155364  \n",
       "\n",
       "[166533 rows x 11 columns]"
      ]
     },
     "execution_count": 30,
     "metadata": {},
     "output_type": "execute_result"
    }
   ],
   "source": [
    "adata.obs = pd.merge(adata.obs,meta_table, left_index = True, right_index=True)\n",
    "adata.obs"
   ]
  },
  {
   "cell_type": "code",
   "execution_count": 31,
   "id": "a89bdcb8-7a61-498c-8696-b95343e4dc8e",
   "metadata": {},
   "outputs": [],
   "source": [
    "adata = adata[ adata.obs['tissue'] == 'Tumor' ]"
   ]
  },
  {
   "cell_type": "code",
   "execution_count": 32,
   "id": "d2f4c38c-3e6f-48e5-9a12-030b22bcc850",
   "metadata": {},
   "outputs": [
    {
     "data": {
      "text/plain": [
       "(80446, 24850)"
      ]
     },
     "execution_count": 32,
     "metadata": {},
     "output_type": "execute_result"
    }
   ],
   "source": [
    "adata.X.shape"
   ]
  },
  {
   "cell_type": "code",
   "execution_count": 33,
   "id": "2dea4ffd-7640-4a4c-9462-f61788e72aeb",
   "metadata": {},
   "outputs": [
    {
     "data": {
      "text/html": [
       "<div>\n",
       "<style scoped>\n",
       "    .dataframe tbody tr th:only-of-type {\n",
       "        vertical-align: middle;\n",
       "    }\n",
       "\n",
       "    .dataframe tbody tr th {\n",
       "        vertical-align: top;\n",
       "    }\n",
       "\n",
       "    .dataframe thead th {\n",
       "        text-align: right;\n",
       "    }\n",
       "</style>\n",
       "<table border=\"1\" class=\"dataframe\">\n",
       "  <thead>\n",
       "    <tr style=\"text-align: right;\">\n",
       "      <th></th>\n",
       "      <th>batch</th>\n",
       "      <th>n_counts</th>\n",
       "      <th>n_genes</th>\n",
       "      <th>percent_mito</th>\n",
       "      <th>patient</th>\n",
       "      <th>tissue</th>\n",
       "      <th>cluster</th>\n",
       "      <th>cluster_color</th>\n",
       "      <th>TCR_BCR</th>\n",
       "      <th>UMAP_x</th>\n",
       "      <th>UMAP_y</th>\n",
       "    </tr>\n",
       "  </thead>\n",
       "  <tbody>\n",
       "    <tr>\n",
       "      <th>GC10T-Tcell:AAACCTGAGAACAATC</th>\n",
       "      <td>GC10T-Tcell</td>\n",
       "      <td>7072.0</td>\n",
       "      <td>2469</td>\n",
       "      <td>0.037755</td>\n",
       "      <td>GC10</td>\n",
       "      <td>Tumor</td>\n",
       "      <td>T cells &amp; NK cells</td>\n",
       "      <td>#ffbb78</td>\n",
       "      <td>TCR_detected</td>\n",
       "      <td>-4.366646</td>\n",
       "      <td>-3.124263</td>\n",
       "    </tr>\n",
       "    <tr>\n",
       "      <th>GC10T-Tcell:AAACCTGAGGCCCGTT</th>\n",
       "      <td>GC10T-Tcell</td>\n",
       "      <td>3872.0</td>\n",
       "      <td>1453</td>\n",
       "      <td>0.027118</td>\n",
       "      <td>GC10</td>\n",
       "      <td>Tumor</td>\n",
       "      <td>T cells &amp; NK cells</td>\n",
       "      <td>#ffbb78</td>\n",
       "      <td>TCR_detected</td>\n",
       "      <td>-1.078918</td>\n",
       "      <td>1.344102</td>\n",
       "    </tr>\n",
       "    <tr>\n",
       "      <th>GC10T-Tcell:AAACCTGAGTTCGATC</th>\n",
       "      <td>GC10T-Tcell</td>\n",
       "      <td>3508.0</td>\n",
       "      <td>1359</td>\n",
       "      <td>0.033352</td>\n",
       "      <td>GC10</td>\n",
       "      <td>Tumor</td>\n",
       "      <td>T cells &amp; NK cells</td>\n",
       "      <td>#ffbb78</td>\n",
       "      <td>TCR_detected</td>\n",
       "      <td>-0.120173</td>\n",
       "      <td>-0.295194</td>\n",
       "    </tr>\n",
       "    <tr>\n",
       "      <th>GC10T-Tcell:AAACCTGCAGTGAGTG</th>\n",
       "      <td>GC10T-Tcell</td>\n",
       "      <td>4067.0</td>\n",
       "      <td>1762</td>\n",
       "      <td>0.028768</td>\n",
       "      <td>GC10</td>\n",
       "      <td>Tumor</td>\n",
       "      <td>T cells &amp; NK cells</td>\n",
       "      <td>#ffbb78</td>\n",
       "      <td>TCR_detected</td>\n",
       "      <td>-6.583777</td>\n",
       "      <td>-3.370298</td>\n",
       "    </tr>\n",
       "    <tr>\n",
       "      <th>GC10T-Tcell:AAACCTGGTAAAGGAG</th>\n",
       "      <td>GC10T-Tcell</td>\n",
       "      <td>17373.0</td>\n",
       "      <td>3764</td>\n",
       "      <td>0.054395</td>\n",
       "      <td>GC10</td>\n",
       "      <td>Tumor</td>\n",
       "      <td>Smooth muscle cells</td>\n",
       "      <td>#aec7e8</td>\n",
       "      <td>others</td>\n",
       "      <td>8.923708</td>\n",
       "      <td>14.389697</td>\n",
       "    </tr>\n",
       "    <tr>\n",
       "      <th>...</th>\n",
       "      <td>...</td>\n",
       "      <td>...</td>\n",
       "      <td>...</td>\n",
       "      <td>...</td>\n",
       "      <td>...</td>\n",
       "      <td>...</td>\n",
       "      <td>...</td>\n",
       "      <td>...</td>\n",
       "      <td>...</td>\n",
       "      <td>...</td>\n",
       "      <td>...</td>\n",
       "    </tr>\n",
       "    <tr>\n",
       "      <th>GC09T:TTTGTCAGTAATTGGA</th>\n",
       "      <td>GC09T</td>\n",
       "      <td>3268.0</td>\n",
       "      <td>1332</td>\n",
       "      <td>0.055386</td>\n",
       "      <td>GC09</td>\n",
       "      <td>Tumor</td>\n",
       "      <td>T cells &amp; NK cells</td>\n",
       "      <td>#ffbb78</td>\n",
       "      <td>TCR_detected</td>\n",
       "      <td>-9.077943</td>\n",
       "      <td>-1.229352</td>\n",
       "    </tr>\n",
       "    <tr>\n",
       "      <th>GC09T:TTTGTCAGTGACAAAT</th>\n",
       "      <td>GC09T</td>\n",
       "      <td>12476.0</td>\n",
       "      <td>2124</td>\n",
       "      <td>0.034466</td>\n",
       "      <td>GC09</td>\n",
       "      <td>Tumor</td>\n",
       "      <td>B cells(Plasma cells)</td>\n",
       "      <td>#ff7f0e</td>\n",
       "      <td>BCR_detected</td>\n",
       "      <td>11.663207</td>\n",
       "      <td>1.158398</td>\n",
       "    </tr>\n",
       "    <tr>\n",
       "      <th>GC09T:TTTGTCAGTGTTGAGG</th>\n",
       "      <td>GC09T</td>\n",
       "      <td>5555.0</td>\n",
       "      <td>1898</td>\n",
       "      <td>0.067327</td>\n",
       "      <td>GC09</td>\n",
       "      <td>Tumor</td>\n",
       "      <td>B cells</td>\n",
       "      <td>#1f77b4</td>\n",
       "      <td>others</td>\n",
       "      <td>7.225957</td>\n",
       "      <td>6.477765</td>\n",
       "    </tr>\n",
       "    <tr>\n",
       "      <th>GC09T:TTTGTCATCAGCTTAG</th>\n",
       "      <td>GC09T</td>\n",
       "      <td>2470.0</td>\n",
       "      <td>1059</td>\n",
       "      <td>0.031984</td>\n",
       "      <td>GC09</td>\n",
       "      <td>Tumor</td>\n",
       "      <td>B cells</td>\n",
       "      <td>#1f77b4</td>\n",
       "      <td>others</td>\n",
       "      <td>5.668129</td>\n",
       "      <td>8.182839</td>\n",
       "    </tr>\n",
       "    <tr>\n",
       "      <th>GC09T:TTTGTCATCGTCCAGG</th>\n",
       "      <td>GC09T</td>\n",
       "      <td>4700.0</td>\n",
       "      <td>1348</td>\n",
       "      <td>0.042979</td>\n",
       "      <td>GC09</td>\n",
       "      <td>Tumor</td>\n",
       "      <td>T cells &amp; NK cells</td>\n",
       "      <td>#ffbb78</td>\n",
       "      <td>TCR_detected</td>\n",
       "      <td>0.315234</td>\n",
       "      <td>1.155364</td>\n",
       "    </tr>\n",
       "  </tbody>\n",
       "</table>\n",
       "<p>80446 rows × 11 columns</p>\n",
       "</div>"
      ],
      "text/plain": [
       "                                    batch  n_counts  n_genes  percent_mito  \\\n",
       "GC10T-Tcell:AAACCTGAGAACAATC  GC10T-Tcell    7072.0     2469      0.037755   \n",
       "GC10T-Tcell:AAACCTGAGGCCCGTT  GC10T-Tcell    3872.0     1453      0.027118   \n",
       "GC10T-Tcell:AAACCTGAGTTCGATC  GC10T-Tcell    3508.0     1359      0.033352   \n",
       "GC10T-Tcell:AAACCTGCAGTGAGTG  GC10T-Tcell    4067.0     1762      0.028768   \n",
       "GC10T-Tcell:AAACCTGGTAAAGGAG  GC10T-Tcell   17373.0     3764      0.054395   \n",
       "...                                   ...       ...      ...           ...   \n",
       "GC09T:TTTGTCAGTAATTGGA              GC09T    3268.0     1332      0.055386   \n",
       "GC09T:TTTGTCAGTGACAAAT              GC09T   12476.0     2124      0.034466   \n",
       "GC09T:TTTGTCAGTGTTGAGG              GC09T    5555.0     1898      0.067327   \n",
       "GC09T:TTTGTCATCAGCTTAG              GC09T    2470.0     1059      0.031984   \n",
       "GC09T:TTTGTCATCGTCCAGG              GC09T    4700.0     1348      0.042979   \n",
       "\n",
       "                             patient tissue                cluster  \\\n",
       "GC10T-Tcell:AAACCTGAGAACAATC    GC10  Tumor     T cells & NK cells   \n",
       "GC10T-Tcell:AAACCTGAGGCCCGTT    GC10  Tumor     T cells & NK cells   \n",
       "GC10T-Tcell:AAACCTGAGTTCGATC    GC10  Tumor     T cells & NK cells   \n",
       "GC10T-Tcell:AAACCTGCAGTGAGTG    GC10  Tumor     T cells & NK cells   \n",
       "GC10T-Tcell:AAACCTGGTAAAGGAG    GC10  Tumor    Smooth muscle cells   \n",
       "...                              ...    ...                    ...   \n",
       "GC09T:TTTGTCAGTAATTGGA          GC09  Tumor     T cells & NK cells   \n",
       "GC09T:TTTGTCAGTGACAAAT          GC09  Tumor  B cells(Plasma cells)   \n",
       "GC09T:TTTGTCAGTGTTGAGG          GC09  Tumor                B cells   \n",
       "GC09T:TTTGTCATCAGCTTAG          GC09  Tumor                B cells   \n",
       "GC09T:TTTGTCATCGTCCAGG          GC09  Tumor     T cells & NK cells   \n",
       "\n",
       "                             cluster_color       TCR_BCR     UMAP_x     UMAP_y  \n",
       "GC10T-Tcell:AAACCTGAGAACAATC       #ffbb78  TCR_detected  -4.366646  -3.124263  \n",
       "GC10T-Tcell:AAACCTGAGGCCCGTT       #ffbb78  TCR_detected  -1.078918   1.344102  \n",
       "GC10T-Tcell:AAACCTGAGTTCGATC       #ffbb78  TCR_detected  -0.120173  -0.295194  \n",
       "GC10T-Tcell:AAACCTGCAGTGAGTG       #ffbb78  TCR_detected  -6.583777  -3.370298  \n",
       "GC10T-Tcell:AAACCTGGTAAAGGAG       #aec7e8        others   8.923708  14.389697  \n",
       "...                                    ...           ...        ...        ...  \n",
       "GC09T:TTTGTCAGTAATTGGA             #ffbb78  TCR_detected  -9.077943  -1.229352  \n",
       "GC09T:TTTGTCAGTGACAAAT             #ff7f0e  BCR_detected  11.663207   1.158398  \n",
       "GC09T:TTTGTCAGTGTTGAGG             #1f77b4        others   7.225957   6.477765  \n",
       "GC09T:TTTGTCATCAGCTTAG             #1f77b4        others   5.668129   8.182839  \n",
       "GC09T:TTTGTCATCGTCCAGG             #ffbb78  TCR_detected   0.315234   1.155364  \n",
       "\n",
       "[80446 rows x 11 columns]"
      ]
     },
     "execution_count": 33,
     "metadata": {},
     "output_type": "execute_result"
    }
   ],
   "source": [
    "adata.obs"
   ]
  },
  {
   "cell_type": "code",
   "execution_count": 34,
   "id": "6b726d84-2988-48c7-b051-1801c98bab6c",
   "metadata": {},
   "outputs": [
    {
     "data": {
      "text/plain": [
       "array(['T cells & NK cells', 'Smooth muscle cells', 'Fibroblasts',\n",
       "       'Endothelial cells', 'Epithelial cells', 'Myeloid cells',\n",
       "       'B cells', 'B cells(Plasma cells)', 'Mast cells', 'Erythrocytes',\n",
       "       'Endocrine cells'], dtype=object)"
      ]
     },
     "execution_count": 34,
     "metadata": {},
     "output_type": "execute_result"
    }
   ],
   "source": [
    "adata.obs['cluster'].unique()"
   ]
  },
  {
   "cell_type": "markdown",
   "id": "72532d63",
   "metadata": {
    "jp-MarkdownHeadingCollapsed": true
   },
   "source": [
    "# Doublet removal - optional but preferred"
   ]
  },
  {
   "cell_type": "code",
   "execution_count": 35,
   "id": "8200c0f7",
   "metadata": {},
   "outputs": [],
   "source": [
    "#!pip install scvi-tools"
   ]
  },
  {
   "cell_type": "code",
   "execution_count": 36,
   "id": "6f23b956",
   "metadata": {},
   "outputs": [],
   "source": [
    "#import scvi"
   ]
  },
  {
   "cell_type": "code",
   "execution_count": 37,
   "id": "83eba3b9",
   "metadata": {},
   "outputs": [],
   "source": [
    "#sc.pp.filter_genes(adata, min_cells = 10)\n",
    "#adata"
   ]
  },
  {
   "cell_type": "code",
   "execution_count": 38,
   "id": "67ac4494",
   "metadata": {},
   "outputs": [],
   "source": [
    "#sc.pp.highly_variable_genes(adata, n_top_genes = 2000, subset = True, flavor = 'seurat')"
   ]
  },
  {
   "cell_type": "code",
   "execution_count": 39,
   "id": "e85be29e",
   "metadata": {},
   "outputs": [],
   "source": [
    "#scvi.model.SCVI.setup_anndata(adata)\n",
    "#vae = scvi.model.SCVI(adata)\n",
    "#vae.train()"
   ]
  },
  {
   "cell_type": "code",
   "execution_count": 40,
   "id": "4645b710",
   "metadata": {},
   "outputs": [],
   "source": [
    "#solo = scvi.external.SOLO.from_scvi_model(vae)\n",
    "#solo.train()"
   ]
  },
  {
   "cell_type": "code",
   "execution_count": 41,
   "id": "71229c69",
   "metadata": {},
   "outputs": [],
   "source": [
    "#df = solo.predict()\n",
    "#df['prediction'] = solo.predict(soft = False)\n",
    "\n",
    "#df.index = df.index.map(lambda x: x[:-2])\n",
    "\n",
    "#df"
   ]
  },
  {
   "cell_type": "code",
   "execution_count": 42,
   "id": "655855b9",
   "metadata": {},
   "outputs": [],
   "source": [
    "#df.groupby('prediction').count()"
   ]
  },
  {
   "cell_type": "code",
   "execution_count": 43,
   "id": "f003dbde",
   "metadata": {},
   "outputs": [],
   "source": [
    "#df['dif'] = df.doublet - df.singlet\n",
    "#df"
   ]
  },
  {
   "cell_type": "code",
   "execution_count": 44,
   "id": "4d1ef4f0",
   "metadata": {},
   "outputs": [],
   "source": [
    "#import seaborn as sns"
   ]
  },
  {
   "cell_type": "code",
   "execution_count": 45,
   "id": "323146ac",
   "metadata": {},
   "outputs": [],
   "source": [
    "#sns.displot(df[df.prediction == 'doublet'], x = 'dif')"
   ]
  },
  {
   "cell_type": "code",
   "execution_count": 46,
   "id": "df429bbb",
   "metadata": {},
   "outputs": [],
   "source": [
    "#doublets = df[(df.prediction == 'doublet') & (df.dif > 1)]\n",
    "#doublets"
   ]
  },
  {
   "cell_type": "code",
   "execution_count": 47,
   "id": "8c672732",
   "metadata": {},
   "outputs": [],
   "source": [
    "#adata = sc.read_csv('raw_counts/GSM5226574_C51ctr_raw_counts.csv').T"
   ]
  },
  {
   "cell_type": "code",
   "execution_count": 48,
   "id": "a71c1b6a",
   "metadata": {},
   "outputs": [],
   "source": [
    "#adata.obs['doublet'] = adata.obs.index.isin(doublets.index)"
   ]
  },
  {
   "cell_type": "code",
   "execution_count": 49,
   "id": "de33eaea",
   "metadata": {},
   "outputs": [],
   "source": [
    "#adata.obs"
   ]
  },
  {
   "cell_type": "code",
   "execution_count": 50,
   "id": "b7cead34",
   "metadata": {},
   "outputs": [],
   "source": [
    "#adata = adata[~adata.obs.doublet]"
   ]
  },
  {
   "cell_type": "code",
   "execution_count": 51,
   "id": "685241ef",
   "metadata": {},
   "outputs": [],
   "source": [
    "#adata"
   ]
  },
  {
   "cell_type": "markdown",
   "id": "d3276937",
   "metadata": {},
   "source": [
    "# Preprocessing"
   ]
  },
  {
   "cell_type": "code",
   "execution_count": 52,
   "id": "49c566d6",
   "metadata": {},
   "outputs": [
    {
     "name": "stderr",
     "output_type": "stream",
     "text": [
      "/var/folders/wx/55cpzt110xz91y6p9dgbsw2c0000gp/T/ipykernel_60483/310233584.py:1: ImplicitModificationWarning: Trying to modify attribute `.var` of view, initializing view as actual.\n",
      "  adata.var['mt'] = adata.var.index.str.startswith('MT-')\n"
     ]
    }
   ],
   "source": [
    "adata.var['mt'] = adata.var.index.str.startswith('MT-')"
   ]
  },
  {
   "cell_type": "code",
   "execution_count": 53,
   "id": "124021d9",
   "metadata": {},
   "outputs": [
    {
     "data": {
      "text/plain": [
       "count     24850\n",
       "unique        2\n",
       "top       False\n",
       "freq      24837\n",
       "Name: mt, dtype: object"
      ]
     },
     "execution_count": 53,
     "metadata": {},
     "output_type": "execute_result"
    }
   ],
   "source": [
    "adata.var['mt'].describe()"
   ]
  },
  {
   "cell_type": "code",
   "execution_count": 54,
   "id": "269341cf-702b-46a3-85cb-2cda4470c352",
   "metadata": {},
   "outputs": [],
   "source": [
    "adata = adata[:, adata.var['mt'] == False]"
   ]
  },
  {
   "cell_type": "code",
   "execution_count": 55,
   "id": "1da8a079-f57c-4a69-a0b3-e1065e653b89",
   "metadata": {},
   "outputs": [
    {
     "data": {
      "text/plain": [
       "(80446, 24837)"
      ]
     },
     "execution_count": 55,
     "metadata": {},
     "output_type": "execute_result"
    }
   ],
   "source": [
    "adata.X.shape"
   ]
  },
  {
   "cell_type": "code",
   "execution_count": 56,
   "id": "a408f7fa",
   "metadata": {},
   "outputs": [],
   "source": [
    "import pandas as pd"
   ]
  },
  {
   "cell_type": "code",
   "execution_count": 57,
   "id": "da7ecb74",
   "metadata": {},
   "outputs": [],
   "source": [
    "ribo_url = \"http://software.broadinstitute.org/gsea/msigdb/download_geneset.jsp?geneSetName=KEGG_RIBOSOME&fileType=txt\""
   ]
  },
  {
   "cell_type": "code",
   "execution_count": 58,
   "id": "47705ce8",
   "metadata": {},
   "outputs": [
    {
     "data": {
      "text/html": [
       "<div>\n",
       "<style scoped>\n",
       "    .dataframe tbody tr th:only-of-type {\n",
       "        vertical-align: middle;\n",
       "    }\n",
       "\n",
       "    .dataframe tbody tr th {\n",
       "        vertical-align: top;\n",
       "    }\n",
       "\n",
       "    .dataframe thead th {\n",
       "        text-align: right;\n",
       "    }\n",
       "</style>\n",
       "<table border=\"1\" class=\"dataframe\">\n",
       "  <thead>\n",
       "    <tr style=\"text-align: right;\">\n",
       "      <th></th>\n",
       "      <th>0</th>\n",
       "    </tr>\n",
       "  </thead>\n",
       "  <tbody>\n",
       "    <tr>\n",
       "      <th>0</th>\n",
       "      <td>FAU</td>\n",
       "    </tr>\n",
       "    <tr>\n",
       "      <th>1</th>\n",
       "      <td>MRPL13</td>\n",
       "    </tr>\n",
       "    <tr>\n",
       "      <th>2</th>\n",
       "      <td>RPL10</td>\n",
       "    </tr>\n",
       "    <tr>\n",
       "      <th>3</th>\n",
       "      <td>RPL10A</td>\n",
       "    </tr>\n",
       "    <tr>\n",
       "      <th>4</th>\n",
       "      <td>RPL10L</td>\n",
       "    </tr>\n",
       "    <tr>\n",
       "      <th>...</th>\n",
       "      <td>...</td>\n",
       "    </tr>\n",
       "    <tr>\n",
       "      <th>83</th>\n",
       "      <td>RPS9</td>\n",
       "    </tr>\n",
       "    <tr>\n",
       "      <th>84</th>\n",
       "      <td>RPSA</td>\n",
       "    </tr>\n",
       "    <tr>\n",
       "      <th>85</th>\n",
       "      <td>RSL24D1</td>\n",
       "    </tr>\n",
       "    <tr>\n",
       "      <th>86</th>\n",
       "      <td>RSL24D1P11</td>\n",
       "    </tr>\n",
       "    <tr>\n",
       "      <th>87</th>\n",
       "      <td>UBA52</td>\n",
       "    </tr>\n",
       "  </tbody>\n",
       "</table>\n",
       "<p>88 rows × 1 columns</p>\n",
       "</div>"
      ],
      "text/plain": [
       "             0\n",
       "0          FAU\n",
       "1       MRPL13\n",
       "2        RPL10\n",
       "3       RPL10A\n",
       "4       RPL10L\n",
       "..         ...\n",
       "83        RPS9\n",
       "84        RPSA\n",
       "85     RSL24D1\n",
       "86  RSL24D1P11\n",
       "87       UBA52\n",
       "\n",
       "[88 rows x 1 columns]"
      ]
     },
     "execution_count": 58,
     "metadata": {},
     "output_type": "execute_result"
    }
   ],
   "source": [
    "ribo_genes = pd.read_table(ribo_url, skiprows=2, header = None)\n",
    "ribo_genes"
   ]
  },
  {
   "cell_type": "code",
   "execution_count": 59,
   "id": "a007ec3d",
   "metadata": {},
   "outputs": [
    {
     "name": "stderr",
     "output_type": "stream",
     "text": [
      "/var/folders/wx/55cpzt110xz91y6p9dgbsw2c0000gp/T/ipykernel_60483/640738055.py:1: ImplicitModificationWarning: Trying to modify attribute `.var` of view, initializing view as actual.\n",
      "  adata.var['ribo'] = adata.var_names.isin(ribo_genes[0].values)\n"
     ]
    }
   ],
   "source": [
    "adata.var['ribo'] = adata.var_names.isin(ribo_genes[0].values)"
   ]
  },
  {
   "cell_type": "code",
   "execution_count": 60,
   "id": "d6c55cf8-f402-4bd2-ac19-50421b61fbce",
   "metadata": {},
   "outputs": [
    {
     "data": {
      "text/plain": [
       "count     24837\n",
       "unique        2\n",
       "top       False\n",
       "freq      24750\n",
       "Name: ribo, dtype: object"
      ]
     },
     "execution_count": 60,
     "metadata": {},
     "output_type": "execute_result"
    }
   ],
   "source": [
    "adata.var['ribo'].describe()"
   ]
  },
  {
   "cell_type": "code",
   "execution_count": 61,
   "id": "3d52ee52-5910-4240-b9f8-6a6951eef5b8",
   "metadata": {},
   "outputs": [],
   "source": [
    "adata = adata[:, adata.var['ribo'] == False]"
   ]
  },
  {
   "cell_type": "code",
   "execution_count": 62,
   "id": "d1db2ad0-d150-4bda-992c-448ab8f0b7df",
   "metadata": {},
   "outputs": [
    {
     "data": {
      "text/plain": [
       "(80446, 24750)"
      ]
     },
     "execution_count": 62,
     "metadata": {},
     "output_type": "execute_result"
    }
   ],
   "source": [
    "adata.X.shape"
   ]
  },
  {
   "cell_type": "code",
   "execution_count": 63,
   "id": "c644d660",
   "metadata": {},
   "outputs": [
    {
     "name": "stderr",
     "output_type": "stream",
     "text": [
      "/Users/zhiyongw/venv/Test/lib/python3.10/site-packages/scanpy/preprocessing/_qc.py:135: ImplicitModificationWarning: Trying to modify attribute `.obs` of view, initializing view as actual.\n",
      "  adata.obs[obs_metrics.columns] = obs_metrics\n"
     ]
    }
   ],
   "source": [
    "sc.pp.calculate_qc_metrics(adata, qc_vars=['mt', 'ribo'], percent_top=None, log1p=False, inplace=True)"
   ]
  },
  {
   "cell_type": "code",
   "execution_count": 64,
   "id": "367ba08d-16f3-46df-9544-e36cbbf924e0",
   "metadata": {},
   "outputs": [
    {
     "data": {
      "text/html": [
       "<div>\n",
       "<style scoped>\n",
       "    .dataframe tbody tr th:only-of-type {\n",
       "        vertical-align: middle;\n",
       "    }\n",
       "\n",
       "    .dataframe tbody tr th {\n",
       "        vertical-align: top;\n",
       "    }\n",
       "\n",
       "    .dataframe thead th {\n",
       "        text-align: right;\n",
       "    }\n",
       "</style>\n",
       "<table border=\"1\" class=\"dataframe\">\n",
       "  <thead>\n",
       "    <tr style=\"text-align: right;\">\n",
       "      <th></th>\n",
       "      <th>batch</th>\n",
       "      <th>n_counts</th>\n",
       "      <th>n_genes</th>\n",
       "      <th>percent_mito</th>\n",
       "      <th>patient</th>\n",
       "      <th>tissue</th>\n",
       "      <th>cluster</th>\n",
       "      <th>cluster_color</th>\n",
       "      <th>TCR_BCR</th>\n",
       "      <th>UMAP_x</th>\n",
       "      <th>UMAP_y</th>\n",
       "      <th>n_genes_by_counts</th>\n",
       "      <th>total_counts</th>\n",
       "      <th>total_counts_mt</th>\n",
       "      <th>pct_counts_mt</th>\n",
       "      <th>total_counts_ribo</th>\n",
       "      <th>pct_counts_ribo</th>\n",
       "    </tr>\n",
       "  </thead>\n",
       "  <tbody>\n",
       "    <tr>\n",
       "      <th>GC10T-Tcell:AAACCTGAGAACAATC</th>\n",
       "      <td>GC10T-Tcell</td>\n",
       "      <td>7072.0</td>\n",
       "      <td>2469</td>\n",
       "      <td>0.037755</td>\n",
       "      <td>GC10</td>\n",
       "      <td>Tumor</td>\n",
       "      <td>T cells &amp; NK cells</td>\n",
       "      <td>#ffbb78</td>\n",
       "      <td>TCR_detected</td>\n",
       "      <td>-4.366646</td>\n",
       "      <td>-3.124263</td>\n",
       "      <td>2373</td>\n",
       "      <td>2146.598877</td>\n",
       "      <td>0.0</td>\n",
       "      <td>0.0</td>\n",
       "      <td>0.0</td>\n",
       "      <td>0.0</td>\n",
       "    </tr>\n",
       "    <tr>\n",
       "      <th>GC10T-Tcell:AAACCTGAGGCCCGTT</th>\n",
       "      <td>GC10T-Tcell</td>\n",
       "      <td>3872.0</td>\n",
       "      <td>1453</td>\n",
       "      <td>0.027118</td>\n",
       "      <td>GC10</td>\n",
       "      <td>Tumor</td>\n",
       "      <td>T cells &amp; NK cells</td>\n",
       "      <td>#ffbb78</td>\n",
       "      <td>TCR_detected</td>\n",
       "      <td>-1.078918</td>\n",
       "      <td>1.344102</td>\n",
       "      <td>1360</td>\n",
       "      <td>1703.851929</td>\n",
       "      <td>0.0</td>\n",
       "      <td>0.0</td>\n",
       "      <td>0.0</td>\n",
       "      <td>0.0</td>\n",
       "    </tr>\n",
       "    <tr>\n",
       "      <th>GC10T-Tcell:AAACCTGAGTTCGATC</th>\n",
       "      <td>GC10T-Tcell</td>\n",
       "      <td>3508.0</td>\n",
       "      <td>1359</td>\n",
       "      <td>0.033352</td>\n",
       "      <td>GC10</td>\n",
       "      <td>Tumor</td>\n",
       "      <td>T cells &amp; NK cells</td>\n",
       "      <td>#ffbb78</td>\n",
       "      <td>TCR_detected</td>\n",
       "      <td>-0.120173</td>\n",
       "      <td>-0.295194</td>\n",
       "      <td>1268</td>\n",
       "      <td>1663.743286</td>\n",
       "      <td>0.0</td>\n",
       "      <td>0.0</td>\n",
       "      <td>0.0</td>\n",
       "      <td>0.0</td>\n",
       "    </tr>\n",
       "    <tr>\n",
       "      <th>GC10T-Tcell:AAACCTGCAGTGAGTG</th>\n",
       "      <td>GC10T-Tcell</td>\n",
       "      <td>4067.0</td>\n",
       "      <td>1762</td>\n",
       "      <td>0.028768</td>\n",
       "      <td>GC10</td>\n",
       "      <td>Tumor</td>\n",
       "      <td>T cells &amp; NK cells</td>\n",
       "      <td>#ffbb78</td>\n",
       "      <td>TCR_detected</td>\n",
       "      <td>-6.583777</td>\n",
       "      <td>-3.370298</td>\n",
       "      <td>1671</td>\n",
       "      <td>2041.076294</td>\n",
       "      <td>0.0</td>\n",
       "      <td>0.0</td>\n",
       "      <td>0.0</td>\n",
       "      <td>0.0</td>\n",
       "    </tr>\n",
       "    <tr>\n",
       "      <th>GC10T-Tcell:AAACCTGGTAAAGGAG</th>\n",
       "      <td>GC10T-Tcell</td>\n",
       "      <td>17373.0</td>\n",
       "      <td>3764</td>\n",
       "      <td>0.054395</td>\n",
       "      <td>GC10</td>\n",
       "      <td>Tumor</td>\n",
       "      <td>Smooth muscle cells</td>\n",
       "      <td>#aec7e8</td>\n",
       "      <td>others</td>\n",
       "      <td>8.923708</td>\n",
       "      <td>14.389697</td>\n",
       "      <td>3669</td>\n",
       "      <td>2240.429199</td>\n",
       "      <td>0.0</td>\n",
       "      <td>0.0</td>\n",
       "      <td>0.0</td>\n",
       "      <td>0.0</td>\n",
       "    </tr>\n",
       "    <tr>\n",
       "      <th>...</th>\n",
       "      <td>...</td>\n",
       "      <td>...</td>\n",
       "      <td>...</td>\n",
       "      <td>...</td>\n",
       "      <td>...</td>\n",
       "      <td>...</td>\n",
       "      <td>...</td>\n",
       "      <td>...</td>\n",
       "      <td>...</td>\n",
       "      <td>...</td>\n",
       "      <td>...</td>\n",
       "      <td>...</td>\n",
       "      <td>...</td>\n",
       "      <td>...</td>\n",
       "      <td>...</td>\n",
       "      <td>...</td>\n",
       "      <td>...</td>\n",
       "    </tr>\n",
       "    <tr>\n",
       "      <th>GC09T:TTTGTCAGTAATTGGA</th>\n",
       "      <td>GC09T</td>\n",
       "      <td>3268.0</td>\n",
       "      <td>1332</td>\n",
       "      <td>0.055386</td>\n",
       "      <td>GC09</td>\n",
       "      <td>Tumor</td>\n",
       "      <td>T cells &amp; NK cells</td>\n",
       "      <td>#ffbb78</td>\n",
       "      <td>TCR_detected</td>\n",
       "      <td>-9.077943</td>\n",
       "      <td>-1.229352</td>\n",
       "      <td>1236</td>\n",
       "      <td>1704.586182</td>\n",
       "      <td>0.0</td>\n",
       "      <td>0.0</td>\n",
       "      <td>0.0</td>\n",
       "      <td>0.0</td>\n",
       "    </tr>\n",
       "    <tr>\n",
       "      <th>GC09T:TTTGTCAGTGACAAAT</th>\n",
       "      <td>GC09T</td>\n",
       "      <td>12476.0</td>\n",
       "      <td>2124</td>\n",
       "      <td>0.034466</td>\n",
       "      <td>GC09</td>\n",
       "      <td>Tumor</td>\n",
       "      <td>B cells(Plasma cells)</td>\n",
       "      <td>#ff7f0e</td>\n",
       "      <td>BCR_detected</td>\n",
       "      <td>11.663207</td>\n",
       "      <td>1.158398</td>\n",
       "      <td>2028</td>\n",
       "      <td>1793.149048</td>\n",
       "      <td>0.0</td>\n",
       "      <td>0.0</td>\n",
       "      <td>0.0</td>\n",
       "      <td>0.0</td>\n",
       "    </tr>\n",
       "    <tr>\n",
       "      <th>GC09T:TTTGTCAGTGTTGAGG</th>\n",
       "      <td>GC09T</td>\n",
       "      <td>5555.0</td>\n",
       "      <td>1898</td>\n",
       "      <td>0.067327</td>\n",
       "      <td>GC09</td>\n",
       "      <td>Tumor</td>\n",
       "      <td>B cells</td>\n",
       "      <td>#1f77b4</td>\n",
       "      <td>others</td>\n",
       "      <td>7.225957</td>\n",
       "      <td>6.477765</td>\n",
       "      <td>1805</td>\n",
       "      <td>1793.885742</td>\n",
       "      <td>0.0</td>\n",
       "      <td>0.0</td>\n",
       "      <td>0.0</td>\n",
       "      <td>0.0</td>\n",
       "    </tr>\n",
       "    <tr>\n",
       "      <th>GC09T:TTTGTCATCAGCTTAG</th>\n",
       "      <td>GC09T</td>\n",
       "      <td>2470.0</td>\n",
       "      <td>1059</td>\n",
       "      <td>0.031984</td>\n",
       "      <td>GC09</td>\n",
       "      <td>Tumor</td>\n",
       "      <td>B cells</td>\n",
       "      <td>#1f77b4</td>\n",
       "      <td>others</td>\n",
       "      <td>5.668129</td>\n",
       "      <td>8.182839</td>\n",
       "      <td>967</td>\n",
       "      <td>1513.628418</td>\n",
       "      <td>0.0</td>\n",
       "      <td>0.0</td>\n",
       "      <td>0.0</td>\n",
       "      <td>0.0</td>\n",
       "    </tr>\n",
       "    <tr>\n",
       "      <th>GC09T:TTTGTCATCGTCCAGG</th>\n",
       "      <td>GC09T</td>\n",
       "      <td>4700.0</td>\n",
       "      <td>1348</td>\n",
       "      <td>0.042979</td>\n",
       "      <td>GC09</td>\n",
       "      <td>Tumor</td>\n",
       "      <td>T cells &amp; NK cells</td>\n",
       "      <td>#ffbb78</td>\n",
       "      <td>TCR_detected</td>\n",
       "      <td>0.315234</td>\n",
       "      <td>1.155364</td>\n",
       "      <td>1253</td>\n",
       "      <td>1331.872192</td>\n",
       "      <td>0.0</td>\n",
       "      <td>0.0</td>\n",
       "      <td>0.0</td>\n",
       "      <td>0.0</td>\n",
       "    </tr>\n",
       "  </tbody>\n",
       "</table>\n",
       "<p>80446 rows × 17 columns</p>\n",
       "</div>"
      ],
      "text/plain": [
       "                                    batch  n_counts  n_genes  percent_mito  \\\n",
       "GC10T-Tcell:AAACCTGAGAACAATC  GC10T-Tcell    7072.0     2469      0.037755   \n",
       "GC10T-Tcell:AAACCTGAGGCCCGTT  GC10T-Tcell    3872.0     1453      0.027118   \n",
       "GC10T-Tcell:AAACCTGAGTTCGATC  GC10T-Tcell    3508.0     1359      0.033352   \n",
       "GC10T-Tcell:AAACCTGCAGTGAGTG  GC10T-Tcell    4067.0     1762      0.028768   \n",
       "GC10T-Tcell:AAACCTGGTAAAGGAG  GC10T-Tcell   17373.0     3764      0.054395   \n",
       "...                                   ...       ...      ...           ...   \n",
       "GC09T:TTTGTCAGTAATTGGA              GC09T    3268.0     1332      0.055386   \n",
       "GC09T:TTTGTCAGTGACAAAT              GC09T   12476.0     2124      0.034466   \n",
       "GC09T:TTTGTCAGTGTTGAGG              GC09T    5555.0     1898      0.067327   \n",
       "GC09T:TTTGTCATCAGCTTAG              GC09T    2470.0     1059      0.031984   \n",
       "GC09T:TTTGTCATCGTCCAGG              GC09T    4700.0     1348      0.042979   \n",
       "\n",
       "                             patient tissue                cluster  \\\n",
       "GC10T-Tcell:AAACCTGAGAACAATC    GC10  Tumor     T cells & NK cells   \n",
       "GC10T-Tcell:AAACCTGAGGCCCGTT    GC10  Tumor     T cells & NK cells   \n",
       "GC10T-Tcell:AAACCTGAGTTCGATC    GC10  Tumor     T cells & NK cells   \n",
       "GC10T-Tcell:AAACCTGCAGTGAGTG    GC10  Tumor     T cells & NK cells   \n",
       "GC10T-Tcell:AAACCTGGTAAAGGAG    GC10  Tumor    Smooth muscle cells   \n",
       "...                              ...    ...                    ...   \n",
       "GC09T:TTTGTCAGTAATTGGA          GC09  Tumor     T cells & NK cells   \n",
       "GC09T:TTTGTCAGTGACAAAT          GC09  Tumor  B cells(Plasma cells)   \n",
       "GC09T:TTTGTCAGTGTTGAGG          GC09  Tumor                B cells   \n",
       "GC09T:TTTGTCATCAGCTTAG          GC09  Tumor                B cells   \n",
       "GC09T:TTTGTCATCGTCCAGG          GC09  Tumor     T cells & NK cells   \n",
       "\n",
       "                             cluster_color       TCR_BCR     UMAP_x  \\\n",
       "GC10T-Tcell:AAACCTGAGAACAATC       #ffbb78  TCR_detected  -4.366646   \n",
       "GC10T-Tcell:AAACCTGAGGCCCGTT       #ffbb78  TCR_detected  -1.078918   \n",
       "GC10T-Tcell:AAACCTGAGTTCGATC       #ffbb78  TCR_detected  -0.120173   \n",
       "GC10T-Tcell:AAACCTGCAGTGAGTG       #ffbb78  TCR_detected  -6.583777   \n",
       "GC10T-Tcell:AAACCTGGTAAAGGAG       #aec7e8        others   8.923708   \n",
       "...                                    ...           ...        ...   \n",
       "GC09T:TTTGTCAGTAATTGGA             #ffbb78  TCR_detected  -9.077943   \n",
       "GC09T:TTTGTCAGTGACAAAT             #ff7f0e  BCR_detected  11.663207   \n",
       "GC09T:TTTGTCAGTGTTGAGG             #1f77b4        others   7.225957   \n",
       "GC09T:TTTGTCATCAGCTTAG             #1f77b4        others   5.668129   \n",
       "GC09T:TTTGTCATCGTCCAGG             #ffbb78  TCR_detected   0.315234   \n",
       "\n",
       "                                 UMAP_y  n_genes_by_counts  total_counts  \\\n",
       "GC10T-Tcell:AAACCTGAGAACAATC  -3.124263               2373   2146.598877   \n",
       "GC10T-Tcell:AAACCTGAGGCCCGTT   1.344102               1360   1703.851929   \n",
       "GC10T-Tcell:AAACCTGAGTTCGATC  -0.295194               1268   1663.743286   \n",
       "GC10T-Tcell:AAACCTGCAGTGAGTG  -3.370298               1671   2041.076294   \n",
       "GC10T-Tcell:AAACCTGGTAAAGGAG  14.389697               3669   2240.429199   \n",
       "...                                 ...                ...           ...   \n",
       "GC09T:TTTGTCAGTAATTGGA        -1.229352               1236   1704.586182   \n",
       "GC09T:TTTGTCAGTGACAAAT         1.158398               2028   1793.149048   \n",
       "GC09T:TTTGTCAGTGTTGAGG         6.477765               1805   1793.885742   \n",
       "GC09T:TTTGTCATCAGCTTAG         8.182839                967   1513.628418   \n",
       "GC09T:TTTGTCATCGTCCAGG         1.155364               1253   1331.872192   \n",
       "\n",
       "                              total_counts_mt  pct_counts_mt  \\\n",
       "GC10T-Tcell:AAACCTGAGAACAATC              0.0            0.0   \n",
       "GC10T-Tcell:AAACCTGAGGCCCGTT              0.0            0.0   \n",
       "GC10T-Tcell:AAACCTGAGTTCGATC              0.0            0.0   \n",
       "GC10T-Tcell:AAACCTGCAGTGAGTG              0.0            0.0   \n",
       "GC10T-Tcell:AAACCTGGTAAAGGAG              0.0            0.0   \n",
       "...                                       ...            ...   \n",
       "GC09T:TTTGTCAGTAATTGGA                    0.0            0.0   \n",
       "GC09T:TTTGTCAGTGACAAAT                    0.0            0.0   \n",
       "GC09T:TTTGTCAGTGTTGAGG                    0.0            0.0   \n",
       "GC09T:TTTGTCATCAGCTTAG                    0.0            0.0   \n",
       "GC09T:TTTGTCATCGTCCAGG                    0.0            0.0   \n",
       "\n",
       "                              total_counts_ribo  pct_counts_ribo  \n",
       "GC10T-Tcell:AAACCTGAGAACAATC                0.0              0.0  \n",
       "GC10T-Tcell:AAACCTGAGGCCCGTT                0.0              0.0  \n",
       "GC10T-Tcell:AAACCTGAGTTCGATC                0.0              0.0  \n",
       "GC10T-Tcell:AAACCTGCAGTGAGTG                0.0              0.0  \n",
       "GC10T-Tcell:AAACCTGGTAAAGGAG                0.0              0.0  \n",
       "...                                         ...              ...  \n",
       "GC09T:TTTGTCAGTAATTGGA                      0.0              0.0  \n",
       "GC09T:TTTGTCAGTGACAAAT                      0.0              0.0  \n",
       "GC09T:TTTGTCAGTGTTGAGG                      0.0              0.0  \n",
       "GC09T:TTTGTCATCAGCTTAG                      0.0              0.0  \n",
       "GC09T:TTTGTCATCGTCCAGG                      0.0              0.0  \n",
       "\n",
       "[80446 rows x 17 columns]"
      ]
     },
     "execution_count": 64,
     "metadata": {},
     "output_type": "execute_result"
    }
   ],
   "source": [
    "adata.obs"
   ]
  },
  {
   "cell_type": "code",
   "execution_count": 65,
   "id": "222bb5ff",
   "metadata": {},
   "outputs": [
    {
     "data": {
      "text/html": [
       "<div>\n",
       "<style scoped>\n",
       "    .dataframe tbody tr th:only-of-type {\n",
       "        vertical-align: middle;\n",
       "    }\n",
       "\n",
       "    .dataframe tbody tr th {\n",
       "        vertical-align: top;\n",
       "    }\n",
       "\n",
       "    .dataframe thead th {\n",
       "        text-align: right;\n",
       "    }\n",
       "</style>\n",
       "<table border=\"1\" class=\"dataframe\">\n",
       "  <thead>\n",
       "    <tr style=\"text-align: right;\">\n",
       "      <th></th>\n",
       "      <th>gene_ids</th>\n",
       "      <th>feature_types</th>\n",
       "      <th>mt</th>\n",
       "      <th>ribo</th>\n",
       "      <th>n_cells_by_counts</th>\n",
       "      <th>mean_counts</th>\n",
       "      <th>pct_dropout_by_counts</th>\n",
       "      <th>total_counts</th>\n",
       "    </tr>\n",
       "  </thead>\n",
       "  <tbody>\n",
       "    <tr>\n",
       "      <th>AC022081.1</th>\n",
       "      <td>ENSG00000256513</td>\n",
       "      <td>Gene Expression</td>\n",
       "      <td>False</td>\n",
       "      <td>False</td>\n",
       "      <td>0</td>\n",
       "      <td>0.000000</td>\n",
       "      <td>100.000000</td>\n",
       "      <td>0.00000</td>\n",
       "    </tr>\n",
       "    <tr>\n",
       "      <th>AC104389.5</th>\n",
       "      <td>ENSG00000284931</td>\n",
       "      <td>Gene Expression</td>\n",
       "      <td>False</td>\n",
       "      <td>False</td>\n",
       "      <td>0</td>\n",
       "      <td>0.000000</td>\n",
       "      <td>100.000000</td>\n",
       "      <td>0.00000</td>\n",
       "    </tr>\n",
       "    <tr>\n",
       "      <th>CLEC1B</th>\n",
       "      <td>ENSG00000165682</td>\n",
       "      <td>Gene Expression</td>\n",
       "      <td>False</td>\n",
       "      <td>False</td>\n",
       "      <td>0</td>\n",
       "      <td>0.000000</td>\n",
       "      <td>100.000000</td>\n",
       "      <td>0.00000</td>\n",
       "    </tr>\n",
       "    <tr>\n",
       "      <th>LINC01785</th>\n",
       "      <td>ENSG00000268038</td>\n",
       "      <td>Gene Expression</td>\n",
       "      <td>False</td>\n",
       "      <td>False</td>\n",
       "      <td>0</td>\n",
       "      <td>0.000000</td>\n",
       "      <td>100.000000</td>\n",
       "      <td>0.00000</td>\n",
       "    </tr>\n",
       "    <tr>\n",
       "      <th>S100G</th>\n",
       "      <td>ENSG00000169906</td>\n",
       "      <td>Gene Expression</td>\n",
       "      <td>False</td>\n",
       "      <td>False</td>\n",
       "      <td>0</td>\n",
       "      <td>0.000000</td>\n",
       "      <td>100.000000</td>\n",
       "      <td>0.00000</td>\n",
       "    </tr>\n",
       "    <tr>\n",
       "      <th>...</th>\n",
       "      <td>...</td>\n",
       "      <td>...</td>\n",
       "      <td>...</td>\n",
       "      <td>...</td>\n",
       "      <td>...</td>\n",
       "      <td>...</td>\n",
       "      <td>...</td>\n",
       "      <td>...</td>\n",
       "    </tr>\n",
       "    <tr>\n",
       "      <th>PTMA</th>\n",
       "      <td>ENSG00000187514</td>\n",
       "      <td>Gene Expression</td>\n",
       "      <td>False</td>\n",
       "      <td>False</td>\n",
       "      <td>78036</td>\n",
       "      <td>3.392477</td>\n",
       "      <td>2.995798</td>\n",
       "      <td>272911.21875</td>\n",
       "    </tr>\n",
       "    <tr>\n",
       "      <th>ACTB</th>\n",
       "      <td>ENSG00000075624</td>\n",
       "      <td>Gene Expression</td>\n",
       "      <td>False</td>\n",
       "      <td>False</td>\n",
       "      <td>78118</td>\n",
       "      <td>4.250394</td>\n",
       "      <td>2.893867</td>\n",
       "      <td>341927.21875</td>\n",
       "    </tr>\n",
       "    <tr>\n",
       "      <th>EEF1A1</th>\n",
       "      <td>ENSG00000156508</td>\n",
       "      <td>Gene Expression</td>\n",
       "      <td>False</td>\n",
       "      <td>False</td>\n",
       "      <td>78469</td>\n",
       "      <td>5.138030</td>\n",
       "      <td>2.457549</td>\n",
       "      <td>413333.96875</td>\n",
       "    </tr>\n",
       "    <tr>\n",
       "      <th>B2M</th>\n",
       "      <td>ENSG00000166710</td>\n",
       "      <td>Gene Expression</td>\n",
       "      <td>False</td>\n",
       "      <td>False</td>\n",
       "      <td>78513</td>\n",
       "      <td>5.258129</td>\n",
       "      <td>2.402854</td>\n",
       "      <td>422995.46875</td>\n",
       "    </tr>\n",
       "    <tr>\n",
       "      <th>MALAT1</th>\n",
       "      <td>ENSG00000251562</td>\n",
       "      <td>Gene Expression</td>\n",
       "      <td>False</td>\n",
       "      <td>False</td>\n",
       "      <td>80053</td>\n",
       "      <td>6.272081</td>\n",
       "      <td>0.488526</td>\n",
       "      <td>504563.84375</td>\n",
       "    </tr>\n",
       "  </tbody>\n",
       "</table>\n",
       "<p>24750 rows × 8 columns</p>\n",
       "</div>"
      ],
      "text/plain": [
       "                   gene_ids    feature_types     mt   ribo  n_cells_by_counts  \\\n",
       "AC022081.1  ENSG00000256513  Gene Expression  False  False                  0   \n",
       "AC104389.5  ENSG00000284931  Gene Expression  False  False                  0   \n",
       "CLEC1B      ENSG00000165682  Gene Expression  False  False                  0   \n",
       "LINC01785   ENSG00000268038  Gene Expression  False  False                  0   \n",
       "S100G       ENSG00000169906  Gene Expression  False  False                  0   \n",
       "...                     ...              ...    ...    ...                ...   \n",
       "PTMA        ENSG00000187514  Gene Expression  False  False              78036   \n",
       "ACTB        ENSG00000075624  Gene Expression  False  False              78118   \n",
       "EEF1A1      ENSG00000156508  Gene Expression  False  False              78469   \n",
       "B2M         ENSG00000166710  Gene Expression  False  False              78513   \n",
       "MALAT1      ENSG00000251562  Gene Expression  False  False              80053   \n",
       "\n",
       "            mean_counts  pct_dropout_by_counts  total_counts  \n",
       "AC022081.1     0.000000             100.000000       0.00000  \n",
       "AC104389.5     0.000000             100.000000       0.00000  \n",
       "CLEC1B         0.000000             100.000000       0.00000  \n",
       "LINC01785      0.000000             100.000000       0.00000  \n",
       "S100G          0.000000             100.000000       0.00000  \n",
       "...                 ...                    ...           ...  \n",
       "PTMA           3.392477               2.995798  272911.21875  \n",
       "ACTB           4.250394               2.893867  341927.21875  \n",
       "EEF1A1         5.138030               2.457549  413333.96875  \n",
       "B2M            5.258129               2.402854  422995.46875  \n",
       "MALAT1         6.272081               0.488526  504563.84375  \n",
       "\n",
       "[24750 rows x 8 columns]"
      ]
     },
     "execution_count": 65,
     "metadata": {},
     "output_type": "execute_result"
    }
   ],
   "source": [
    "adata.var.sort_values('n_cells_by_counts')"
   ]
  },
  {
   "cell_type": "code",
   "execution_count": 66,
   "id": "a41753da",
   "metadata": {},
   "outputs": [],
   "source": [
    "sc.pp.filter_genes(adata, min_cells=3)"
   ]
  },
  {
   "cell_type": "code",
   "execution_count": 67,
   "id": "692b7db5",
   "metadata": {},
   "outputs": [
    {
     "data": {
      "text/html": [
       "<div>\n",
       "<style scoped>\n",
       "    .dataframe tbody tr th:only-of-type {\n",
       "        vertical-align: middle;\n",
       "    }\n",
       "\n",
       "    .dataframe tbody tr th {\n",
       "        vertical-align: top;\n",
       "    }\n",
       "\n",
       "    .dataframe thead th {\n",
       "        text-align: right;\n",
       "    }\n",
       "</style>\n",
       "<table border=\"1\" class=\"dataframe\">\n",
       "  <thead>\n",
       "    <tr style=\"text-align: right;\">\n",
       "      <th></th>\n",
       "      <th>batch</th>\n",
       "      <th>n_counts</th>\n",
       "      <th>n_genes</th>\n",
       "      <th>percent_mito</th>\n",
       "      <th>patient</th>\n",
       "      <th>tissue</th>\n",
       "      <th>cluster</th>\n",
       "      <th>cluster_color</th>\n",
       "      <th>TCR_BCR</th>\n",
       "      <th>UMAP_x</th>\n",
       "      <th>UMAP_y</th>\n",
       "      <th>n_genes_by_counts</th>\n",
       "      <th>total_counts</th>\n",
       "      <th>total_counts_mt</th>\n",
       "      <th>pct_counts_mt</th>\n",
       "      <th>total_counts_ribo</th>\n",
       "      <th>pct_counts_ribo</th>\n",
       "    </tr>\n",
       "  </thead>\n",
       "  <tbody>\n",
       "    <tr>\n",
       "      <th>GC02T:TACTCATGTTAAAGAC</th>\n",
       "      <td>GC02T</td>\n",
       "      <td>1936.0</td>\n",
       "      <td>303</td>\n",
       "      <td>0.005682</td>\n",
       "      <td>GC02</td>\n",
       "      <td>Tumor</td>\n",
       "      <td>B cells(Plasma cells)</td>\n",
       "      <td>#ff7f0e</td>\n",
       "      <td>others</td>\n",
       "      <td>9.865548</td>\n",
       "      <td>2.384873</td>\n",
       "      <td>233</td>\n",
       "      <td>745.830261</td>\n",
       "      <td>0.0</td>\n",
       "      <td>0.0</td>\n",
       "      <td>0.0</td>\n",
       "      <td>0.0</td>\n",
       "    </tr>\n",
       "    <tr>\n",
       "      <th>GC06T:TCTTCGGGTCATATGC</th>\n",
       "      <td>GC06T</td>\n",
       "      <td>861.0</td>\n",
       "      <td>305</td>\n",
       "      <td>0.155633</td>\n",
       "      <td>GC06</td>\n",
       "      <td>Tumor</td>\n",
       "      <td>B cells(Plasma cells)</td>\n",
       "      <td>#ff7f0e</td>\n",
       "      <td>others</td>\n",
       "      <td>10.273343</td>\n",
       "      <td>1.813409</td>\n",
       "      <td>234</td>\n",
       "      <td>753.789429</td>\n",
       "      <td>0.0</td>\n",
       "      <td>0.0</td>\n",
       "      <td>0.0</td>\n",
       "      <td>0.0</td>\n",
       "    </tr>\n",
       "    <tr>\n",
       "      <th>GC04T:CTGATCCCAGGTGGAT</th>\n",
       "      <td>GC04T</td>\n",
       "      <td>1697.0</td>\n",
       "      <td>302</td>\n",
       "      <td>0.014732</td>\n",
       "      <td>GC04</td>\n",
       "      <td>Tumor</td>\n",
       "      <td>Epithelial cells</td>\n",
       "      <td>#aa40fc</td>\n",
       "      <td>others</td>\n",
       "      <td>10.427670</td>\n",
       "      <td>-5.396895</td>\n",
       "      <td>235</td>\n",
       "      <td>818.537842</td>\n",
       "      <td>0.0</td>\n",
       "      <td>0.0</td>\n",
       "      <td>0.0</td>\n",
       "      <td>0.0</td>\n",
       "    </tr>\n",
       "    <tr>\n",
       "      <th>GC01T:TGCCAAATCTCGAGTA</th>\n",
       "      <td>GC01T</td>\n",
       "      <td>1765.0</td>\n",
       "      <td>313</td>\n",
       "      <td>0.016431</td>\n",
       "      <td>GC01</td>\n",
       "      <td>Tumor</td>\n",
       "      <td>B cells</td>\n",
       "      <td>#1f77b4</td>\n",
       "      <td>others</td>\n",
       "      <td>9.901426</td>\n",
       "      <td>5.710325</td>\n",
       "      <td>237</td>\n",
       "      <td>722.450195</td>\n",
       "      <td>0.0</td>\n",
       "      <td>0.0</td>\n",
       "      <td>0.0</td>\n",
       "      <td>0.0</td>\n",
       "    </tr>\n",
       "    <tr>\n",
       "      <th>GC04T:CACCAGGAGTGCCAGA</th>\n",
       "      <td>GC04T</td>\n",
       "      <td>1511.0</td>\n",
       "      <td>318</td>\n",
       "      <td>0.037062</td>\n",
       "      <td>GC04</td>\n",
       "      <td>Tumor</td>\n",
       "      <td>Epithelial cells</td>\n",
       "      <td>#aa40fc</td>\n",
       "      <td>others</td>\n",
       "      <td>10.930943</td>\n",
       "      <td>-5.306543</td>\n",
       "      <td>240</td>\n",
       "      <td>783.080872</td>\n",
       "      <td>0.0</td>\n",
       "      <td>0.0</td>\n",
       "      <td>0.0</td>\n",
       "      <td>0.0</td>\n",
       "    </tr>\n",
       "    <tr>\n",
       "      <th>...</th>\n",
       "      <td>...</td>\n",
       "      <td>...</td>\n",
       "      <td>...</td>\n",
       "      <td>...</td>\n",
       "      <td>...</td>\n",
       "      <td>...</td>\n",
       "      <td>...</td>\n",
       "      <td>...</td>\n",
       "      <td>...</td>\n",
       "      <td>...</td>\n",
       "      <td>...</td>\n",
       "      <td>...</td>\n",
       "      <td>...</td>\n",
       "      <td>...</td>\n",
       "      <td>...</td>\n",
       "      <td>...</td>\n",
       "      <td>...</td>\n",
       "    </tr>\n",
       "    <tr>\n",
       "      <th>GC07T:CTTCTCTGTATGCTTG</th>\n",
       "      <td>GC07T</td>\n",
       "      <td>76190.0</td>\n",
       "      <td>8285</td>\n",
       "      <td>0.074734</td>\n",
       "      <td>GC07</td>\n",
       "      <td>Tumor</td>\n",
       "      <td>Epithelial cells</td>\n",
       "      <td>#aa40fc</td>\n",
       "      <td>others</td>\n",
       "      <td>7.118983</td>\n",
       "      <td>-7.456750</td>\n",
       "      <td>8187</td>\n",
       "      <td>2667.840576</td>\n",
       "      <td>0.0</td>\n",
       "      <td>0.0</td>\n",
       "      <td>0.0</td>\n",
       "      <td>0.0</td>\n",
       "    </tr>\n",
       "    <tr>\n",
       "      <th>GC10T-Tcell:TATGCCCCACGCATCG</th>\n",
       "      <td>GC10T-Tcell</td>\n",
       "      <td>91070.0</td>\n",
       "      <td>8424</td>\n",
       "      <td>0.098781</td>\n",
       "      <td>GC10</td>\n",
       "      <td>Tumor</td>\n",
       "      <td>Epithelial cells</td>\n",
       "      <td>#aa40fc</td>\n",
       "      <td>others</td>\n",
       "      <td>5.744961</td>\n",
       "      <td>-7.235927</td>\n",
       "      <td>8327</td>\n",
       "      <td>2551.088379</td>\n",
       "      <td>0.0</td>\n",
       "      <td>0.0</td>\n",
       "      <td>0.0</td>\n",
       "      <td>0.0</td>\n",
       "    </tr>\n",
       "    <tr>\n",
       "      <th>GC08T-S2:TATCTCATCCGCATCT</th>\n",
       "      <td>GC08T-S2</td>\n",
       "      <td>62934.0</td>\n",
       "      <td>8463</td>\n",
       "      <td>0.086186</td>\n",
       "      <td>GC08</td>\n",
       "      <td>Tumor</td>\n",
       "      <td>Fibroblasts</td>\n",
       "      <td>#e377c2</td>\n",
       "      <td>others</td>\n",
       "      <td>8.027698</td>\n",
       "      <td>14.941630</td>\n",
       "      <td>8365</td>\n",
       "      <td>2704.452881</td>\n",
       "      <td>0.0</td>\n",
       "      <td>0.0</td>\n",
       "      <td>0.0</td>\n",
       "      <td>0.0</td>\n",
       "    </tr>\n",
       "    <tr>\n",
       "      <th>GC10T:CGCTATCCAGATAATG</th>\n",
       "      <td>GC10T</td>\n",
       "      <td>72201.0</td>\n",
       "      <td>8479</td>\n",
       "      <td>0.102852</td>\n",
       "      <td>GC10</td>\n",
       "      <td>Tumor</td>\n",
       "      <td>Epithelial cells</td>\n",
       "      <td>#aa40fc</td>\n",
       "      <td>others</td>\n",
       "      <td>6.272414</td>\n",
       "      <td>-7.635509</td>\n",
       "      <td>8382</td>\n",
       "      <td>2747.678711</td>\n",
       "      <td>0.0</td>\n",
       "      <td>0.0</td>\n",
       "      <td>0.0</td>\n",
       "      <td>0.0</td>\n",
       "    </tr>\n",
       "    <tr>\n",
       "      <th>GC06T:CAGCTGGCAAGGACAC</th>\n",
       "      <td>GC06T</td>\n",
       "      <td>98918.0</td>\n",
       "      <td>8546</td>\n",
       "      <td>0.138468</td>\n",
       "      <td>GC06</td>\n",
       "      <td>Tumor</td>\n",
       "      <td>Epithelial cells</td>\n",
       "      <td>#aa40fc</td>\n",
       "      <td>others</td>\n",
       "      <td>6.864381</td>\n",
       "      <td>-7.332600</td>\n",
       "      <td>8449</td>\n",
       "      <td>2123.197021</td>\n",
       "      <td>0.0</td>\n",
       "      <td>0.0</td>\n",
       "      <td>0.0</td>\n",
       "      <td>0.0</td>\n",
       "    </tr>\n",
       "  </tbody>\n",
       "</table>\n",
       "<p>80446 rows × 17 columns</p>\n",
       "</div>"
      ],
      "text/plain": [
       "                                    batch  n_counts  n_genes  percent_mito  \\\n",
       "GC02T:TACTCATGTTAAAGAC              GC02T    1936.0      303      0.005682   \n",
       "GC06T:TCTTCGGGTCATATGC              GC06T     861.0      305      0.155633   \n",
       "GC04T:CTGATCCCAGGTGGAT              GC04T    1697.0      302      0.014732   \n",
       "GC01T:TGCCAAATCTCGAGTA              GC01T    1765.0      313      0.016431   \n",
       "GC04T:CACCAGGAGTGCCAGA              GC04T    1511.0      318      0.037062   \n",
       "...                                   ...       ...      ...           ...   \n",
       "GC07T:CTTCTCTGTATGCTTG              GC07T   76190.0     8285      0.074734   \n",
       "GC10T-Tcell:TATGCCCCACGCATCG  GC10T-Tcell   91070.0     8424      0.098781   \n",
       "GC08T-S2:TATCTCATCCGCATCT        GC08T-S2   62934.0     8463      0.086186   \n",
       "GC10T:CGCTATCCAGATAATG              GC10T   72201.0     8479      0.102852   \n",
       "GC06T:CAGCTGGCAAGGACAC              GC06T   98918.0     8546      0.138468   \n",
       "\n",
       "                             patient tissue                cluster  \\\n",
       "GC02T:TACTCATGTTAAAGAC          GC02  Tumor  B cells(Plasma cells)   \n",
       "GC06T:TCTTCGGGTCATATGC          GC06  Tumor  B cells(Plasma cells)   \n",
       "GC04T:CTGATCCCAGGTGGAT          GC04  Tumor       Epithelial cells   \n",
       "GC01T:TGCCAAATCTCGAGTA          GC01  Tumor                B cells   \n",
       "GC04T:CACCAGGAGTGCCAGA          GC04  Tumor       Epithelial cells   \n",
       "...                              ...    ...                    ...   \n",
       "GC07T:CTTCTCTGTATGCTTG          GC07  Tumor       Epithelial cells   \n",
       "GC10T-Tcell:TATGCCCCACGCATCG    GC10  Tumor       Epithelial cells   \n",
       "GC08T-S2:TATCTCATCCGCATCT       GC08  Tumor            Fibroblasts   \n",
       "GC10T:CGCTATCCAGATAATG          GC10  Tumor       Epithelial cells   \n",
       "GC06T:CAGCTGGCAAGGACAC          GC06  Tumor       Epithelial cells   \n",
       "\n",
       "                             cluster_color TCR_BCR     UMAP_x     UMAP_y  \\\n",
       "GC02T:TACTCATGTTAAAGAC             #ff7f0e  others   9.865548   2.384873   \n",
       "GC06T:TCTTCGGGTCATATGC             #ff7f0e  others  10.273343   1.813409   \n",
       "GC04T:CTGATCCCAGGTGGAT             #aa40fc  others  10.427670  -5.396895   \n",
       "GC01T:TGCCAAATCTCGAGTA             #1f77b4  others   9.901426   5.710325   \n",
       "GC04T:CACCAGGAGTGCCAGA             #aa40fc  others  10.930943  -5.306543   \n",
       "...                                    ...     ...        ...        ...   \n",
       "GC07T:CTTCTCTGTATGCTTG             #aa40fc  others   7.118983  -7.456750   \n",
       "GC10T-Tcell:TATGCCCCACGCATCG       #aa40fc  others   5.744961  -7.235927   \n",
       "GC08T-S2:TATCTCATCCGCATCT          #e377c2  others   8.027698  14.941630   \n",
       "GC10T:CGCTATCCAGATAATG             #aa40fc  others   6.272414  -7.635509   \n",
       "GC06T:CAGCTGGCAAGGACAC             #aa40fc  others   6.864381  -7.332600   \n",
       "\n",
       "                              n_genes_by_counts  total_counts  \\\n",
       "GC02T:TACTCATGTTAAAGAC                      233    745.830261   \n",
       "GC06T:TCTTCGGGTCATATGC                      234    753.789429   \n",
       "GC04T:CTGATCCCAGGTGGAT                      235    818.537842   \n",
       "GC01T:TGCCAAATCTCGAGTA                      237    722.450195   \n",
       "GC04T:CACCAGGAGTGCCAGA                      240    783.080872   \n",
       "...                                         ...           ...   \n",
       "GC07T:CTTCTCTGTATGCTTG                     8187   2667.840576   \n",
       "GC10T-Tcell:TATGCCCCACGCATCG               8327   2551.088379   \n",
       "GC08T-S2:TATCTCATCCGCATCT                  8365   2704.452881   \n",
       "GC10T:CGCTATCCAGATAATG                     8382   2747.678711   \n",
       "GC06T:CAGCTGGCAAGGACAC                     8449   2123.197021   \n",
       "\n",
       "                              total_counts_mt  pct_counts_mt  \\\n",
       "GC02T:TACTCATGTTAAAGAC                    0.0            0.0   \n",
       "GC06T:TCTTCGGGTCATATGC                    0.0            0.0   \n",
       "GC04T:CTGATCCCAGGTGGAT                    0.0            0.0   \n",
       "GC01T:TGCCAAATCTCGAGTA                    0.0            0.0   \n",
       "GC04T:CACCAGGAGTGCCAGA                    0.0            0.0   \n",
       "...                                       ...            ...   \n",
       "GC07T:CTTCTCTGTATGCTTG                    0.0            0.0   \n",
       "GC10T-Tcell:TATGCCCCACGCATCG              0.0            0.0   \n",
       "GC08T-S2:TATCTCATCCGCATCT                 0.0            0.0   \n",
       "GC10T:CGCTATCCAGATAATG                    0.0            0.0   \n",
       "GC06T:CAGCTGGCAAGGACAC                    0.0            0.0   \n",
       "\n",
       "                              total_counts_ribo  pct_counts_ribo  \n",
       "GC02T:TACTCATGTTAAAGAC                      0.0              0.0  \n",
       "GC06T:TCTTCGGGTCATATGC                      0.0              0.0  \n",
       "GC04T:CTGATCCCAGGTGGAT                      0.0              0.0  \n",
       "GC01T:TGCCAAATCTCGAGTA                      0.0              0.0  \n",
       "GC04T:CACCAGGAGTGCCAGA                      0.0              0.0  \n",
       "...                                         ...              ...  \n",
       "GC07T:CTTCTCTGTATGCTTG                      0.0              0.0  \n",
       "GC10T-Tcell:TATGCCCCACGCATCG                0.0              0.0  \n",
       "GC08T-S2:TATCTCATCCGCATCT                   0.0              0.0  \n",
       "GC10T:CGCTATCCAGATAATG                      0.0              0.0  \n",
       "GC06T:CAGCTGGCAAGGACAC                      0.0              0.0  \n",
       "\n",
       "[80446 rows x 17 columns]"
      ]
     },
     "execution_count": 67,
     "metadata": {},
     "output_type": "execute_result"
    }
   ],
   "source": [
    "adata.obs.sort_values('n_genes_by_counts')"
   ]
  },
  {
   "cell_type": "code",
   "execution_count": 68,
   "id": "b55e0da7",
   "metadata": {},
   "outputs": [],
   "source": [
    "#sc.pp.filter_cells(adata, min_genes=200)"
   ]
  },
  {
   "cell_type": "code",
   "execution_count": 69,
   "id": "744364eb",
   "metadata": {},
   "outputs": [
    {
     "name": "stderr",
     "output_type": "stream",
     "text": [
      "/Users/zhiyongw/venv/Test/lib/python3.10/site-packages/seaborn/_oldcore.py:1119: FutureWarning: use_inf_as_na option is deprecated and will be removed in a future version. Convert inf values to NaN before operating instead.\n",
      "  with pd.option_context('mode.use_inf_as_na', True):\n",
      "/Users/zhiyongw/venv/Test/lib/python3.10/site-packages/seaborn/_oldcore.py:1119: FutureWarning: use_inf_as_na option is deprecated and will be removed in a future version. Convert inf values to NaN before operating instead.\n",
      "  with pd.option_context('mode.use_inf_as_na', True):\n",
      "/Users/zhiyongw/venv/Test/lib/python3.10/site-packages/seaborn/_oldcore.py:1119: FutureWarning: use_inf_as_na option is deprecated and will be removed in a future version. Convert inf values to NaN before operating instead.\n",
      "  with pd.option_context('mode.use_inf_as_na', True):\n",
      "/Users/zhiyongw/venv/Test/lib/python3.10/site-packages/seaborn/_oldcore.py:1119: FutureWarning: use_inf_as_na option is deprecated and will be removed in a future version. Convert inf values to NaN before operating instead.\n",
      "  with pd.option_context('mode.use_inf_as_na', True):\n",
      "/Users/zhiyongw/venv/Test/lib/python3.10/site-packages/seaborn/_oldcore.py:1119: FutureWarning: use_inf_as_na option is deprecated and will be removed in a future version. Convert inf values to NaN before operating instead.\n",
      "  with pd.option_context('mode.use_inf_as_na', True):\n",
      "/Users/zhiyongw/venv/Test/lib/python3.10/site-packages/seaborn/_oldcore.py:1119: FutureWarning: use_inf_as_na option is deprecated and will be removed in a future version. Convert inf values to NaN before operating instead.\n",
      "  with pd.option_context('mode.use_inf_as_na', True):\n",
      "/Users/zhiyongw/venv/Test/lib/python3.10/site-packages/seaborn/_oldcore.py:1119: FutureWarning: use_inf_as_na option is deprecated and will be removed in a future version. Convert inf values to NaN before operating instead.\n",
      "  with pd.option_context('mode.use_inf_as_na', True):\n",
      "/Users/zhiyongw/venv/Test/lib/python3.10/site-packages/seaborn/_oldcore.py:1119: FutureWarning: use_inf_as_na option is deprecated and will be removed in a future version. Convert inf values to NaN before operating instead.\n",
      "  with pd.option_context('mode.use_inf_as_na', True):\n"
     ]
    },
    {
     "data": {
      "image/png": "[encoded data removed]",
      "text/plain": [
       "<Figure size 2000x500 with 4 Axes>"
      ]
     },
     "metadata": {},
     "output_type": "display_data"
    }
   ],
   "source": [
    "sc.pl.violin(adata, ['n_genes_by_counts', 'total_counts', 'pct_counts_mt', 'pct_counts_ribo'], \n",
    "             jitter=0.4, multi_panel=True)"
   ]
  },
  {
   "cell_type": "code",
   "execution_count": 70,
   "id": "16ffea58-0b22-44d5-bee8-f66c2248ce83",
   "metadata": {},
   "outputs": [
    {
     "data": {
      "text/plain": [
       "(80446, 24606)"
      ]
     },
     "execution_count": 70,
     "metadata": {},
     "output_type": "execute_result"
    }
   ],
   "source": [
    "adata.X.shape"
   ]
  },
  {
   "cell_type": "code",
   "execution_count": 71,
   "id": "87e8909f",
   "metadata": {},
   "outputs": [],
   "source": [
    "import numpy as np"
   ]
  },
  {
   "cell_type": "code",
   "execution_count": 72,
   "id": "af61b255",
   "metadata": {},
   "outputs": [],
   "source": [
    "upper_lim = np.quantile(adata.obs.n_genes_by_counts.values, .98)\n",
    "#upper_lim = 3000"
   ]
  },
  {
   "cell_type": "code",
   "execution_count": 73,
   "id": "a17ac203",
   "metadata": {},
   "outputs": [
    {
     "data": {
      "text/plain": [
       "4769.0"
      ]
     },
     "execution_count": 73,
     "metadata": {},
     "output_type": "execute_result"
    }
   ],
   "source": [
    "upper_lim"
   ]
  },
  {
   "cell_type": "code",
   "execution_count": 74,
   "id": "6ff49646",
   "metadata": {},
   "outputs": [],
   "source": [
    "adata = adata[adata.obs.n_genes_by_counts <= upper_lim]"
   ]
  },
  {
   "cell_type": "code",
   "execution_count": 75,
   "id": "94f33f9b",
   "metadata": {},
   "outputs": [
    {
     "data": {
      "text/plain": [
       "(78839, 24606)"
      ]
     },
     "execution_count": 75,
     "metadata": {},
     "output_type": "execute_result"
    }
   ],
   "source": [
    "adata.X.shape"
   ]
  },
  {
   "cell_type": "code",
   "execution_count": 76,
   "id": "272d0672",
   "metadata": {},
   "outputs": [],
   "source": [
    "#adata = adata[adata.obs.pct_counts_mt < 20]"
   ]
  },
  {
   "cell_type": "code",
   "execution_count": 77,
   "id": "6dc44537",
   "metadata": {},
   "outputs": [],
   "source": [
    "#adata = adata[adata.obs.pct_counts_ribo < 2]"
   ]
  },
  {
   "cell_type": "code",
   "execution_count": 78,
   "id": "e2d5a3a3",
   "metadata": {},
   "outputs": [],
   "source": [
    "#adata.X.shape"
   ]
  },
  {
   "cell_type": "code",
   "execution_count": 79,
   "id": "69e765e4-32ed-4eaa-a4e8-33ff5c6c1c6c",
   "metadata": {},
   "outputs": [
    {
     "name": "stderr",
     "output_type": "stream",
     "text": [
      "/Users/zhiyongw/venv/Test/lib/python3.10/site-packages/seaborn/_oldcore.py:1119: FutureWarning: use_inf_as_na option is deprecated and will be removed in a future version. Convert inf values to NaN before operating instead.\n",
      "  with pd.option_context('mode.use_inf_as_na', True):\n",
      "/Users/zhiyongw/venv/Test/lib/python3.10/site-packages/seaborn/_oldcore.py:1119: FutureWarning: use_inf_as_na option is deprecated and will be removed in a future version. Convert inf values to NaN before operating instead.\n",
      "  with pd.option_context('mode.use_inf_as_na', True):\n",
      "/Users/zhiyongw/venv/Test/lib/python3.10/site-packages/seaborn/_oldcore.py:1119: FutureWarning: use_inf_as_na option is deprecated and will be removed in a future version. Convert inf values to NaN before operating instead.\n",
      "  with pd.option_context('mode.use_inf_as_na', True):\n",
      "/Users/zhiyongw/venv/Test/lib/python3.10/site-packages/seaborn/_oldcore.py:1119: FutureWarning: use_inf_as_na option is deprecated and will be removed in a future version. Convert inf values to NaN before operating instead.\n",
      "  with pd.option_context('mode.use_inf_as_na', True):\n",
      "/Users/zhiyongw/venv/Test/lib/python3.10/site-packages/seaborn/_oldcore.py:1119: FutureWarning: use_inf_as_na option is deprecated and will be removed in a future version. Convert inf values to NaN before operating instead.\n",
      "  with pd.option_context('mode.use_inf_as_na', True):\n",
      "/Users/zhiyongw/venv/Test/lib/python3.10/site-packages/seaborn/_oldcore.py:1119: FutureWarning: use_inf_as_na option is deprecated and will be removed in a future version. Convert inf values to NaN before operating instead.\n",
      "  with pd.option_context('mode.use_inf_as_na', True):\n",
      "/Users/zhiyongw/venv/Test/lib/python3.10/site-packages/seaborn/_oldcore.py:1119: FutureWarning: use_inf_as_na option is deprecated and will be removed in a future version. Convert inf values to NaN before operating instead.\n",
      "  with pd.option_context('mode.use_inf_as_na', True):\n",
      "/Users/zhiyongw/venv/Test/lib/python3.10/site-packages/seaborn/_oldcore.py:1119: FutureWarning: use_inf_as_na option is deprecated and will be removed in a future version. Convert inf values to NaN before operating instead.\n",
      "  with pd.option_context('mode.use_inf_as_na', True):\n"
     ]
    },
    {
     "data": {
      "image/png": "[encoded data removed]",
      "text/plain": [
       "<Figure size 2000x500 with 4 Axes>"
      ]
     },
     "metadata": {},
     "output_type": "display_data"
    }
   ],
   "source": [
    "sc.pl.violin(adata, ['n_genes_by_counts', 'total_counts', 'pct_counts_mt', 'pct_counts_ribo'], \n",
    "             jitter=0.4, multi_panel=True)"
   ]
  },
  {
   "cell_type": "code",
   "execution_count": 80,
   "id": "a2a54079-cfb2-4229-a85a-8a8637648765",
   "metadata": {},
   "outputs": [
    {
     "data": {
      "text/plain": [
       "View of AnnData object with n_obs × n_vars = 78839 × 24606\n",
       "    obs: 'batch', 'n_counts', 'n_genes', 'percent_mito', 'patient', 'tissue', 'cluster', 'cluster_color', 'TCR_BCR', 'UMAP_x', 'UMAP_y', 'n_genes_by_counts', 'total_counts', 'total_counts_mt', 'pct_counts_mt', 'total_counts_ribo', 'pct_counts_ribo'\n",
       "    var: 'gene_ids', 'feature_types', 'mt', 'ribo', 'n_cells_by_counts', 'mean_counts', 'pct_dropout_by_counts', 'total_counts', 'n_cells'"
      ]
     },
     "execution_count": 80,
     "metadata": {},
     "output_type": "execute_result"
    }
   ],
   "source": [
    "adata"
   ]
  },
  {
   "cell_type": "markdown",
   "id": "fd7d7912",
   "metadata": {},
   "source": [
    "# Normalization"
   ]
  },
  {
   "cell_type": "code",
   "execution_count": 81,
   "id": "c4cb4742",
   "metadata": {},
   "outputs": [],
   "source": [
    "#adata.X.sum(axis = 1)"
   ]
  },
  {
   "cell_type": "code",
   "execution_count": 82,
   "id": "c7c0d806",
   "metadata": {},
   "outputs": [],
   "source": [
    "#sc.pp.normalize_total(adata, target_sum=1e4) #normalize every cell to 10,000 UMI"
   ]
  },
  {
   "cell_type": "code",
   "execution_count": 83,
   "id": "503219fb",
   "metadata": {},
   "outputs": [],
   "source": [
    "#adata.X.sum(axis = 1)"
   ]
  },
  {
   "cell_type": "code",
   "execution_count": 84,
   "id": "5752f0da",
   "metadata": {},
   "outputs": [],
   "source": [
    "#sc.pp.log1p(adata) #change to log counts"
   ]
  },
  {
   "cell_type": "code",
   "execution_count": 85,
   "id": "0bf5eed1",
   "metadata": {},
   "outputs": [],
   "source": [
    "#adata.X.sum(axis = 1)"
   ]
  },
  {
   "cell_type": "code",
   "execution_count": 86,
   "id": "d9b69865",
   "metadata": {},
   "outputs": [],
   "source": [
    "#adata.raw = adata"
   ]
  },
  {
   "cell_type": "markdown",
   "id": "b59acb04",
   "metadata": {},
   "source": [
    "# Clustering"
   ]
  },
  {
   "cell_type": "code",
   "execution_count": null,
   "id": "f80217c6",
   "metadata": {},
   "outputs": [],
   "source": [
    "sc.pp.highly_variable_genes(adata, n_top_genes = 1000)"
   ]
  },
  {
   "cell_type": "code",
   "execution_count": null,
   "id": "e2e5f512",
   "metadata": {},
   "outputs": [],
   "source": [
    "adata.var"
   ]
  },
  {
   "cell_type": "code",
   "execution_count": null,
   "id": "a7735c8a-a6b2-4e32-9743-b4e2ef66c7e2",
   "metadata": {},
   "outputs": [],
   "source": [
    "features = adata.var[ adata.var['highly_variable'] ].index.to_list()"
   ]
  },
  {
   "cell_type": "code",
   "execution_count": null,
   "id": "8285c890-9eb9-4d36-87f3-d32cfe07fe7a",
   "metadata": {},
   "outputs": [],
   "source": [
    "features[:10]"
   ]
  },
  {
   "cell_type": "code",
   "execution_count": null,
   "id": "c9a4b0c4",
   "metadata": {},
   "outputs": [],
   "source": [
    "sc.pl.highly_variable_genes(adata)"
   ]
  },
  {
   "cell_type": "code",
   "execution_count": null,
   "id": "5d123cb9",
   "metadata": {},
   "outputs": [],
   "source": [
    "adata = adata[:, adata.var.highly_variable]"
   ]
  },
  {
   "cell_type": "code",
   "execution_count": null,
   "id": "88242fc3",
   "metadata": {},
   "outputs": [],
   "source": [
    "sc.pp.regress_out(adata, ['total_counts', 'pct_counts_mt', 'pct_counts_ribo'])"
   ]
  },
  {
   "cell_type": "code",
   "execution_count": null,
   "id": "5fa9436e",
   "metadata": {},
   "outputs": [],
   "source": [
    "sc.pp.scale(adata, max_value=10)"
   ]
  },
  {
   "cell_type": "code",
   "execution_count": null,
   "id": "a7986612",
   "metadata": {},
   "outputs": [],
   "source": [
    "sc.tl.pca(adata, svd_solver='arpack')"
   ]
  },
  {
   "cell_type": "code",
   "execution_count": null,
   "id": "7c5fb725",
   "metadata": {},
   "outputs": [],
   "source": [
    "sc.pl.pca_variance_ratio(adata, log=True, n_pcs = 50)"
   ]
  },
  {
   "cell_type": "code",
   "execution_count": null,
   "id": "88ec6cf8",
   "metadata": {},
   "outputs": [],
   "source": [
    "sc.pp.neighbors(adata, n_pcs = 30)"
   ]
  },
  {
   "cell_type": "code",
   "execution_count": null,
   "id": "327d9041",
   "metadata": {},
   "outputs": [],
   "source": [
    "sc.tl.umap(adata)"
   ]
  },
  {
   "cell_type": "code",
   "execution_count": null,
   "id": "93391aeb",
   "metadata": {},
   "outputs": [],
   "source": [
    "sc.pl.umap(adata)"
   ]
  },
  {
   "cell_type": "code",
   "execution_count": null,
   "id": "5a2f975f",
   "metadata": {},
   "outputs": [],
   "source": [
    "!pip install leidenalg"
   ]
  },
  {
   "cell_type": "code",
   "execution_count": null,
   "id": "e93707ce",
   "metadata": {},
   "outputs": [],
   "source": [
    "sc.tl.leiden(adata, resolution = 0.5)"
   ]
  },
  {
   "cell_type": "code",
   "execution_count": null,
   "id": "04c81db8",
   "metadata": {},
   "outputs": [],
   "source": [
    "adata.obs"
   ]
  },
  {
   "cell_type": "code",
   "execution_count": null,
   "id": "a631668c",
   "metadata": {},
   "outputs": [],
   "source": [
    "sc.pl.umap(adata, color=['leiden'])"
   ]
  },
  {
   "cell_type": "code",
   "execution_count": null,
   "id": "bf91c7ba-fad1-46c0-bd9c-b8e6b803f4f7",
   "metadata": {},
   "outputs": [],
   "source": [
    "adata"
   ]
  },
  {
   "cell_type": "code",
   "execution_count": null,
   "id": "3e20e04b-75c5-4fc4-b116-6d9e61b22e20",
   "metadata": {},
   "outputs": [],
   "source": [
    "adata.obs['cluster'].unique()"
   ]
  },
  {
   "cell_type": "code",
   "execution_count": null,
   "id": "503caf98-7ce5-466a-9412-37e67b35c2f1",
   "metadata": {},
   "outputs": [],
   "source": [
    "features[:10]"
   ]
  },
  {
   "cell_type": "code",
   "execution_count": null,
   "id": "ff56b5e9-a7bc-4891-95a2-50cebeb87e95",
   "metadata": {},
   "outputs": [],
   "source": [
    "features = adata.var.index.to_list()"
   ]
  },
  {
   "cell_type": "code",
   "execution_count": null,
   "id": "8f06fc2e-7b61-47f5-a3c7-ad61487c36ea",
   "metadata": {},
   "outputs": [],
   "source": [
    "features[:10]"
   ]
  },
  {
   "cell_type": "code",
   "execution_count": null,
   "id": "18706734-cebd-49c2-9181-931a50e04e54",
   "metadata": {},
   "outputs": [],
   "source": [
    "adata.write('processed.h5ad')"
   ]
  },
  {
   "cell_type": "markdown",
   "id": "9c140ed5",
   "metadata": {},
   "source": [
    "# Integration"
   ]
  },
  {
   "cell_type": "code",
   "execution_count": null,
   "id": "a296b545",
   "metadata": {},
   "outputs": [],
   "source": [
    "def pp(csv_path):\n",
    "    adata = sc.read_csv(csv_path).T\n",
    "    sc.pp.filter_genes(adata, min_cells = 10)\n",
    "    sc.pp.highly_variable_genes(adata, n_top_genes = 2000, subset = True, flavor = 'seurat_v3')\n",
    "    scvi.model.SCVI.setup_anndata(adata)\n",
    "    vae = scvi.model.SCVI(adata)\n",
    "    vae.train()\n",
    "    solo = scvi.external.SOLO.from_scvi_model(vae)\n",
    "    solo.train()\n",
    "    df = solo.predict()\n",
    "    df['prediction'] = solo.predict(soft = False)\n",
    "    df.index = df.index.map(lambda x: x[:-2])\n",
    "    df['dif'] = df.doublet - df.singlet\n",
    "    doublets = df[(df.prediction == 'doublet') & (df.dif > 1)]\n",
    "    \n",
    "    adata = sc.read_csv(csv_path).T\n",
    "    adata.obs['Sample'] = csv_path.split('_')[2] #'raw_counts/GSM5226574_C51ctr_raw_counts.csv'\n",
    "    \n",
    "    adata.obs['doublet'] = adata.obs.index.isin(doublets.index)\n",
    "    adata = adata[~adata.obs.doublet]\n",
    "    \n",
    "    \n",
    "    sc.pp.filter_cells(adata, min_genes=200) #get rid of cells with fewer than 200 genes\n",
    "    #sc.pp.filter_genes(adata, min_cells=3) #get rid of genes that are found in fewer than 3 cells\n",
    "    adata.var['mt'] = adata.var_names.str.startswith('mt-')  # annotate the group of mitochondrial genes as 'mt'\n",
    "    adata.var['ribo'] = adata.var_names.isin(ribo_genes[0].values)\n",
    "    sc.pp.calculate_qc_metrics(adata, qc_vars=['mt', 'ribo'], percent_top=None, log1p=False, inplace=True)\n",
    "    upper_lim = np.quantile(adata.obs.n_genes_by_counts.values, .98)\n",
    "    adata = adata[adata.obs.n_genes_by_counts < upper_lim]\n",
    "    adata = adata[adata.obs.pct_counts_mt < 20]\n",
    "    adata = adata[adata.obs.pct_counts_ribo < 2]\n",
    "\n",
    "    return adata"
   ]
  },
  {
   "cell_type": "code",
   "execution_count": null,
   "id": "a540ec07",
   "metadata": {},
   "outputs": [],
   "source": [
    "import os"
   ]
  },
  {
   "cell_type": "code",
   "execution_count": null,
   "id": "85324fb7",
   "metadata": {},
   "outputs": [],
   "source": [
    "out = []\n",
    "for file in os.listdir('raw_counts/'):\n",
    "    out.append(pp('raw_counts/' + file))"
   ]
  },
  {
   "cell_type": "code",
   "execution_count": null,
   "id": "945d16b9",
   "metadata": {},
   "outputs": [],
   "source": [
    "adata = sc.concat(out)"
   ]
  },
  {
   "cell_type": "code",
   "execution_count": null,
   "id": "9e6f54f2",
   "metadata": {},
   "outputs": [],
   "source": [
    "adata"
   ]
  },
  {
   "cell_type": "code",
   "execution_count": null,
   "id": "c16d7a17",
   "metadata": {},
   "outputs": [],
   "source": [
    "sc.pp.filter_genes(adata, min_cells = 10)"
   ]
  },
  {
   "cell_type": "code",
   "execution_count": null,
   "id": "3be5d4f5",
   "metadata": {},
   "outputs": [],
   "source": [
    "adata.X"
   ]
  },
  {
   "cell_type": "code",
   "execution_count": null,
   "id": "2db3c171",
   "metadata": {},
   "outputs": [],
   "source": [
    "from scipy.sparse import csr_matrix"
   ]
  },
  {
   "cell_type": "code",
   "execution_count": null,
   "id": "a5e22a83",
   "metadata": {},
   "outputs": [],
   "source": [
    "adata.X = csr_matrix(adata.X)"
   ]
  },
  {
   "cell_type": "code",
   "execution_count": null,
   "id": "7dfd84cd",
   "metadata": {},
   "outputs": [],
   "source": [
    "adata.X"
   ]
  },
  {
   "cell_type": "code",
   "execution_count": null,
   "id": "62ff89e2",
   "metadata": {},
   "outputs": [],
   "source": [
    "adata.write_h5ad('combined.h5ad')"
   ]
  },
  {
   "cell_type": "code",
   "execution_count": null,
   "id": "8c942dc1",
   "metadata": {},
   "outputs": [],
   "source": [
    "########################################################"
   ]
  },
  {
   "cell_type": "code",
   "execution_count": null,
   "id": "7e3d7b00",
   "metadata": {},
   "outputs": [],
   "source": [
    "import scanpy as sc\n",
    "import scvi\n",
    "import seaborn as sns\n",
    "import numpy as np\n",
    "import pandas as pd"
   ]
  },
  {
   "cell_type": "code",
   "execution_count": null,
   "id": "5b9c9878",
   "metadata": {},
   "outputs": [],
   "source": [
    "adata = sc.read_h5ad('combined.h5ad')\n",
    "adata"
   ]
  },
  {
   "cell_type": "code",
   "execution_count": null,
   "id": "5b9a0459",
   "metadata": {},
   "outputs": [],
   "source": [
    "adata.obs.groupby('Sample').count()"
   ]
  },
  {
   "cell_type": "code",
   "execution_count": null,
   "id": "6526a60f",
   "metadata": {},
   "outputs": [],
   "source": [
    "sc.pp.filter_genes(adata, min_cells = 100)"
   ]
  },
  {
   "cell_type": "code",
   "execution_count": null,
   "id": "e02218ff",
   "metadata": {},
   "outputs": [],
   "source": [
    "adata"
   ]
  },
  {
   "cell_type": "code",
   "execution_count": null,
   "id": "563deca4",
   "metadata": {},
   "outputs": [],
   "source": [
    "adata.layers['counts'] = adata.X.copy()"
   ]
  },
  {
   "cell_type": "code",
   "execution_count": null,
   "id": "3882376b",
   "metadata": {},
   "outputs": [],
   "source": [
    "sc.pp.normalize_total(adata, target_sum = 1e4)\n",
    "sc.pp.log1p(adata)\n",
    "adata.raw = adata"
   ]
  },
  {
   "cell_type": "code",
   "execution_count": null,
   "id": "04e8a10e",
   "metadata": {},
   "outputs": [],
   "source": [
    "adata.obs.head()"
   ]
  },
  {
   "cell_type": "code",
   "execution_count": null,
   "id": "7a87ae09",
   "metadata": {},
   "outputs": [],
   "source": [
    "adata"
   ]
  },
  {
   "cell_type": "code",
   "execution_count": null,
   "id": "312b0fd6",
   "metadata": {},
   "outputs": [],
   "source": [
    "# sc.pp.highly_variable_genes(adata, n_top_genes=3000, subset = True, layer = 'counts',\n",
    "#                            flavor = \"seurat_v3\", batch_key=\"Sample\") #no batch_key if one sample"
   ]
  },
  {
   "cell_type": "code",
   "execution_count": null,
   "id": "6db7474d",
   "metadata": {},
   "outputs": [],
   "source": [
    "scvi.model.SCVI.setup_anndata(adata, layer = \"counts\",\n",
    "                             categorical_covariate_keys=[\"Sample\"],\n",
    "                             continuous_covariate_keys=['pct_counts_mt', 'total_counts', 'pct_counts_ribo'])"
   ]
  },
  {
   "cell_type": "code",
   "execution_count": null,
   "id": "7e17bba3",
   "metadata": {},
   "outputs": [],
   "source": [
    "model = scvi.model.SCVI(adata)"
   ]
  },
  {
   "cell_type": "code",
   "execution_count": null,
   "id": "04856ad2",
   "metadata": {},
   "outputs": [],
   "source": [
    "model.train() #may take a while without GPU"
   ]
  },
  {
   "cell_type": "code",
   "execution_count": null,
   "id": "3287d1f0",
   "metadata": {},
   "outputs": [],
   "source": [
    "adata.obsm['X_scVI'] = model.get_latent_representation()"
   ]
  },
  {
   "cell_type": "code",
   "execution_count": null,
   "id": "e1edef3a",
   "metadata": {},
   "outputs": [],
   "source": [
    "adata.layers['scvi_normalized'] = model.get_normalized_expression(library_size = 1e4)"
   ]
  },
  {
   "cell_type": "code",
   "execution_count": null,
   "id": "aeff99e3",
   "metadata": {},
   "outputs": [],
   "source": [
    "sc.pp.neighbors(adata, use_rep = 'X_scVI')"
   ]
  },
  {
   "cell_type": "code",
   "execution_count": null,
   "id": "700b839f",
   "metadata": {},
   "outputs": [],
   "source": [
    "sc.tl.umap(adata)\n",
    "sc.tl.leiden(adata, resolution = 0.5)"
   ]
  },
  {
   "cell_type": "code",
   "execution_count": null,
   "id": "e982c3c5",
   "metadata": {},
   "outputs": [],
   "source": [
    "sc.pl.umap(adata, color = ['leiden', 'Sample'], frameon = False)"
   ]
  },
  {
   "cell_type": "code",
   "execution_count": null,
   "id": "9df9f808",
   "metadata": {},
   "outputs": [],
   "source": [
    "adata.write_h5ad('integrated.h5ad')"
   ]
  },
  {
   "cell_type": "markdown",
   "id": "06c27f56",
   "metadata": {},
   "source": [
    "# Find markers/ label cell types"
   ]
  },
  {
   "cell_type": "code",
   "execution_count": null,
   "id": "25957161",
   "metadata": {},
   "outputs": [],
   "source": [
    "sc.tl.leiden(adata, resolution = 1)"
   ]
  },
  {
   "cell_type": "code",
   "execution_count": null,
   "id": "b030b8bd",
   "metadata": {
    "scrolled": true
   },
   "outputs": [],
   "source": [
    "sc.tl.rank_genes_groups(adata, 'leiden')"
   ]
  },
  {
   "cell_type": "code",
   "execution_count": null,
   "id": "1ac12118",
   "metadata": {},
   "outputs": [],
   "source": [
    "#sc.pl.rank_genes_groups(adata, n_genes=20, sharey=False)"
   ]
  },
  {
   "cell_type": "code",
   "execution_count": null,
   "id": "77303b3e",
   "metadata": {},
   "outputs": [],
   "source": [
    "markers = sc.get.rank_genes_groups_df(adata, None)\n",
    "markers = markers[(markers.pvals_adj < 0.05) & (markers.logfoldchanges > .5)]\n",
    "markers"
   ]
  },
  {
   "cell_type": "code",
   "execution_count": null,
   "id": "3a0b92f1",
   "metadata": {},
   "outputs": [],
   "source": [
    "markers_scvi = model.differential_expression(groupby = 'leiden')\n",
    "markers_scvi"
   ]
  },
  {
   "cell_type": "code",
   "execution_count": null,
   "id": "1a19c681",
   "metadata": {},
   "outputs": [],
   "source": [
    "markers_scvi = markers_scvi[(markers_scvi['is_de_fdr_0.05']) & (markers_scvi.lfc_mean > .5)]\n",
    "markers_scvi"
   ]
  },
  {
   "cell_type": "code",
   "execution_count": null,
   "id": "42890f53",
   "metadata": {},
   "outputs": [],
   "source": [
    "sc.pl.umap(adata, color = ['leiden'], frameon = False, legend_loc = \"on data\")"
   ]
  },
  {
   "cell_type": "code",
   "execution_count": null,
   "id": "c8c57836",
   "metadata": {},
   "outputs": [],
   "source": [
    "sc.pl.umap(adata, color = ['EPCAM', 'MUC1'], frameon = False, layer = 'scvi_normalized', vmax = 5)\n",
    "#, layer = 'scvi_normalized'"
   ]
  },
  {
   "cell_type": "code",
   "execution_count": null,
   "id": "ecae8d93",
   "metadata": {},
   "outputs": [],
   "source": [
    "cell_type = {\"0\":\"Macrophage\",\n",
    "\"1\":\"Fibroblast\",\n",
    "\"2\":\"CD4+ T-cell\",\n",
    "\"3\":\"AT2\",\n",
    "\"4\":\"AT1\",\n",
    "\"5\":\"CD8+ T-cell\",\n",
    "\"6\":\"Endothelial cell\",\n",
    "\"7\":\"Plasma cell\",\n",
    "\"8\":\"Macrophage\",\n",
    "\"9\":\"AT2\",\n",
    "\"10\":\"Fibroblast\",\n",
    "\"11\":\"Fibroblast\",\n",
    "\"12\":\"Macrophage\",\n",
    "\"13\":\"Macrophage\",\n",
    "\"14\":\"Airway epithelial\",\n",
    "\"15\":\"Airway epithelial\",\n",
    "\"16\":\"Monocyte\",\n",
    "\"17\":\"Airway epithelial\",\n",
    "\"18\":\"B-cell\",\n",
    "\"19\":\"Aerocyte\",\n",
    "\"20\":\"Airway epithelial\",\n",
    "\"21\":\"Smooth muscle cell\",\n",
    "\"22\":\"Cycling T/NK\",\n",
    "\"23\":\"Neuronal cell\",\n",
    "\"24\":\"Denditic cell\",\n",
    "\"25\":\"Pericyte\",\n",
    "\"26\":\"Fibroblast\",\n",
    "\"27\":\"Erythroid-like\",\n",
    "\"28\":\"Macrophage\"\n",
    "}\n"
   ]
  },
  {
   "cell_type": "code",
   "execution_count": null,
   "id": "ceb467a8",
   "metadata": {},
   "outputs": [],
   "source": [
    "adata.obs['cell type'] = adata.obs.leiden.map(cell_type)"
   ]
  },
  {
   "cell_type": "code",
   "execution_count": null,
   "id": "56485414",
   "metadata": {},
   "outputs": [],
   "source": [
    "sc.pl.umap(adata, color = ['cell type'], frameon = False)"
   ]
  },
  {
   "cell_type": "code",
   "execution_count": null,
   "id": "e6a6a7e8",
   "metadata": {},
   "outputs": [],
   "source": [
    "adata"
   ]
  },
  {
   "cell_type": "code",
   "execution_count": null,
   "id": "50dcc3f9",
   "metadata": {},
   "outputs": [],
   "source": [
    "adata.uns['scvi_markers'] = markers_scvi\n",
    "adata.uns['markers'] = markers"
   ]
  },
  {
   "cell_type": "code",
   "execution_count": null,
   "id": "78b9fb36",
   "metadata": {},
   "outputs": [],
   "source": [
    "adata.write_h5ad('integrated.h5ad')"
   ]
  },
  {
   "cell_type": "code",
   "execution_count": null,
   "id": "b0bdc418",
   "metadata": {},
   "outputs": [],
   "source": [
    "model.save('model.model')"
   ]
  },
  {
   "cell_type": "markdown",
   "id": "f2bc63cb",
   "metadata": {},
   "source": [
    "# Analysis"
   ]
  },
  {
   "cell_type": "code",
   "execution_count": null,
   "id": "ae5d8ecb",
   "metadata": {},
   "outputs": [],
   "source": [
    "import scanpy as sc\n",
    "import scvi\n",
    "import seaborn as sns\n",
    "import numpy as np\n",
    "import pandas as pd"
   ]
  },
  {
   "cell_type": "markdown",
   "id": "4b2e39f6",
   "metadata": {},
   "source": [
    "## Counting cells"
   ]
  },
  {
   "cell_type": "code",
   "execution_count": null,
   "id": "b64a79af",
   "metadata": {},
   "outputs": [],
   "source": [
    "adata = sc.read_h5ad('integrated.h5ad')"
   ]
  },
  {
   "cell_type": "code",
   "execution_count": null,
   "id": "e86a35bf",
   "metadata": {},
   "outputs": [],
   "source": [
    "adata.obs.Sample.unique().tolist()"
   ]
  },
  {
   "cell_type": "code",
   "execution_count": null,
   "id": "20b4c27c",
   "metadata": {},
   "outputs": [],
   "source": [
    "def map_condition(x):\n",
    "    if 'cov' in x:\n",
    "        return 'COVID19'\n",
    "    else:\n",
    "        return 'control'"
   ]
  },
  {
   "cell_type": "code",
   "execution_count": null,
   "id": "d9a31dec",
   "metadata": {},
   "outputs": [],
   "source": [
    "adata.obs['condition'] = adata.obs.Sample.map(map_condition)\n",
    "adata.obs"
   ]
  },
  {
   "cell_type": "code",
   "execution_count": null,
   "id": "37a9cfe5",
   "metadata": {},
   "outputs": [],
   "source": [
    "num_tot_cells = adata.obs.groupby(['Sample']).count()\n",
    "num_tot_cells = dict(zip(num_tot_cells.index, num_tot_cells.doublet))\n",
    "num_tot_cells"
   ]
  },
  {
   "cell_type": "code",
   "execution_count": null,
   "id": "59417bc0",
   "metadata": {},
   "outputs": [],
   "source": [
    "cell_type_counts = adata.obs.groupby(['Sample', 'condition', 'cell type']).count()\n",
    "cell_type_counts = cell_type_counts[cell_type_counts.sum(axis = 1) > 0].reset_index()\n",
    "cell_type_counts = cell_type_counts[cell_type_counts.columns[0:4]]\n",
    "cell_type_counts"
   ]
  },
  {
   "cell_type": "code",
   "execution_count": null,
   "id": "52793349",
   "metadata": {},
   "outputs": [],
   "source": [
    "cell_type_counts['total_cells'] = cell_type_counts.Sample.map(num_tot_cells).astype(int)\n",
    "\n",
    "cell_type_counts['frequency'] = cell_type_counts.doublet / cell_type_counts.total_cells\n",
    "\n",
    "cell_type_counts"
   ]
  },
  {
   "cell_type": "code",
   "execution_count": null,
   "id": "5cb7b2bd",
   "metadata": {},
   "outputs": [],
   "source": [
    "import matplotlib.pyplot as plt\n",
    "\n",
    "plt.figure(figsize = (10,4))\n",
    "\n",
    "ax = sns.boxplot(data = cell_type_counts, x = 'cell type', y = 'frequency', hue = 'condition')\n",
    "\n",
    "plt.xticks(rotation = 35, rotation_mode = 'anchor', ha = 'right')\n",
    "\n",
    "plt.show()\n"
   ]
  },
  {
   "cell_type": "code",
   "execution_count": null,
   "id": "4cc816d1",
   "metadata": {},
   "outputs": [],
   "source": []
  },
  {
   "cell_type": "markdown",
   "id": "1250fd2d",
   "metadata": {},
   "source": [
    "## DE"
   ]
  },
  {
   "cell_type": "code",
   "execution_count": null,
   "id": "28b550f4",
   "metadata": {},
   "outputs": [],
   "source": [
    "subset = adata[adata.obs['cell type'].isin(['AT1', 'AT2'])].copy()"
   ]
  },
  {
   "cell_type": "code",
   "execution_count": null,
   "id": "3c3d8a2e",
   "metadata": {},
   "outputs": [],
   "source": [
    "#two options: SCVI or diffxpy"
   ]
  },
  {
   "cell_type": "code",
   "execution_count": null,
   "id": "8f09b339",
   "metadata": {},
   "outputs": [],
   "source": [
    "import diffxpy.api as de"
   ]
  },
  {
   "cell_type": "code",
   "execution_count": null,
   "id": "f83e4a6b",
   "metadata": {},
   "outputs": [],
   "source": [
    "subset.X = subset.X.toarray()"
   ]
  },
  {
   "cell_type": "code",
   "execution_count": null,
   "id": "05fc11de",
   "metadata": {},
   "outputs": [],
   "source": [
    "len(subset.var)"
   ]
  },
  {
   "cell_type": "code",
   "execution_count": null,
   "id": "94dd84b5",
   "metadata": {},
   "outputs": [],
   "source": [
    "subset"
   ]
  },
  {
   "cell_type": "code",
   "execution_count": null,
   "id": "c91840a4",
   "metadata": {},
   "outputs": [],
   "source": [
    "sc.pp.filter_genes(subset, min_cells=100)"
   ]
  },
  {
   "cell_type": "code",
   "execution_count": null,
   "id": "8c480048",
   "metadata": {},
   "outputs": [],
   "source": [
    "len(subset.var)"
   ]
  },
  {
   "cell_type": "code",
   "execution_count": null,
   "id": "fc158b2c",
   "metadata": {},
   "outputs": [],
   "source": [
    "subset.obs = subset.obs.rename(columns = {'cell type':'cell_type'})"
   ]
  },
  {
   "cell_type": "code",
   "execution_count": null,
   "id": "238d9c7b",
   "metadata": {},
   "outputs": [],
   "source": [
    "#subset = subset.raw.to_adata() #need to run this if you scaled/regress your data and have negative numbers\n"
   ]
  },
  {
   "cell_type": "code",
   "execution_count": null,
   "id": "21c18a60",
   "metadata": {},
   "outputs": [],
   "source": [
    "subset.obs"
   ]
  },
  {
   "cell_type": "code",
   "execution_count": null,
   "id": "4623832b",
   "metadata": {},
   "outputs": [],
   "source": [
    "#if want to test between covid/non covid\n",
    "# res = de.test.wald(data=subset,\n",
    "#              formula_loc= '~ 1 + condition',\n",
    "#              factor_loc_totest='condition'\n",
    "#                   )\n",
    "\n",
    "\n",
    "res = de.test.wald(data=subset,\n",
    "             formula_loc= '~ 1 + cell_type',\n",
    "             factor_loc_totest='cell_type'\n",
    "                  )"
   ]
  },
  {
   "cell_type": "code",
   "execution_count": null,
   "id": "4108ee6a",
   "metadata": {},
   "outputs": [],
   "source": [
    "dedf = res.summary().sort_values('log2fc', ascending = False).reset_index(drop = True)\n",
    "dedf"
   ]
  },
  {
   "cell_type": "code",
   "execution_count": null,
   "id": "18375ba3",
   "metadata": {},
   "outputs": [],
   "source": [
    "subset.obs.cell_type.unique()"
   ]
  },
  {
   "cell_type": "code",
   "execution_count": null,
   "id": "9269be35",
   "metadata": {},
   "outputs": [],
   "source": [
    "most_up = dedf.iloc[0].gene\n",
    "i = np.where(subset.var_names == most_up)[0][0]\n",
    "\n",
    "a = subset[subset.obs.cell_type == 'AT1'].X[:, i]\n",
    "b = subset[subset.obs.cell_type == 'AT2'].X[:, i]\n",
    "print(f\"{most_up} expression:\")\n",
    "print(f\"AT1: {a.mean()}\")\n",
    "print(f\"AT2: {b.mean()}\")\n"
   ]
  },
  {
   "cell_type": "code",
   "execution_count": null,
   "id": "5c6a38b8",
   "metadata": {},
   "outputs": [],
   "source": [
    "dedf['log2fc'] = dedf['log2fc']*-1\n",
    "dedf = dedf.sort_values('log2fc', ascending = False).reset_index(drop = True)\n",
    "dedf"
   ]
  },
  {
   "cell_type": "code",
   "execution_count": null,
   "id": "cd197a6b",
   "metadata": {},
   "outputs": [],
   "source": [
    "dedf = dedf[(dedf.qval < 0.05) & (abs(dedf.log2fc) > .5)]\n",
    "dedf"
   ]
  },
  {
   "cell_type": "code",
   "execution_count": null,
   "id": "22a54943",
   "metadata": {},
   "outputs": [],
   "source": [
    "dedf = dedf[dedf['mean'] > 0.15]\n",
    "dedf"
   ]
  },
  {
   "cell_type": "code",
   "execution_count": null,
   "id": "3b6c5f25",
   "metadata": {},
   "outputs": [],
   "source": [
    "genes_to_show = dedf[-25:].gene.tolist() + dedf[:25].gene.tolist() #top 25 and bottom 25 from sorted df"
   ]
  },
  {
   "cell_type": "code",
   "execution_count": null,
   "id": "e6c56cd6",
   "metadata": {},
   "outputs": [],
   "source": [
    "sc.pl.heatmap(subset, genes_to_show, groupby='cell_type', swap_axes=True)"
   ]
  },
  {
   "cell_type": "code",
   "execution_count": null,
   "id": "e5aa8399",
   "metadata": {},
   "outputs": [],
   "source": [
    "#DE with scvi"
   ]
  },
  {
   "cell_type": "code",
   "execution_count": null,
   "id": "d95da62c",
   "metadata": {},
   "outputs": [],
   "source": [
    "model  = scvi.model.SCVI.load('model.model', adata)"
   ]
  },
  {
   "cell_type": "code",
   "execution_count": null,
   "id": "5f0fc2f0",
   "metadata": {},
   "outputs": [],
   "source": [
    "model"
   ]
  },
  {
   "cell_type": "code",
   "execution_count": null,
   "id": "ad20a614",
   "metadata": {},
   "outputs": [],
   "source": [
    "scvi_de = model.differential_expression(\n",
    "    idx1 = [adata.obs['cell type'] == 'AT1'],\n",
    "    idx2 = [adata.obs['cell type'] == 'AT2']\n",
    "    )\n",
    "\n",
    "#any set of cells vs any set of cells\n",
    "# scvi_de = model.differential_expression(\n",
    "#     idx1 = [(adata.obs['cell type'].isin(['AT1', 'AT2'])) & (adata.obs.condition == 'COVID19')],\n",
    "#     idx2 = [(adata.obs['cell type'].isin(['AT1', 'AT2'])) & (adata.obs.condition == 'control')]\n",
    "#     )"
   ]
  },
  {
   "cell_type": "code",
   "execution_count": null,
   "id": "4e9ba820",
   "metadata": {},
   "outputs": [],
   "source": [
    "scvi_de"
   ]
  },
  {
   "cell_type": "code",
   "execution_count": null,
   "id": "074ed994",
   "metadata": {},
   "outputs": [],
   "source": [
    "scvi_de = scvi_de[(scvi_de['is_de_fdr_0.05']) & (abs(scvi_de.lfc_mean) > .5)]\n",
    "scvi_de = scvi_de.sort_values('lfc_mean')\n",
    "scvi_de"
   ]
  },
  {
   "cell_type": "code",
   "execution_count": null,
   "id": "ee6586e6",
   "metadata": {},
   "outputs": [],
   "source": [
    "scvi_de = scvi_de[(scvi_de.raw_normalized_mean1 > .5) | (scvi_de.raw_normalized_mean2 > .5)]\n",
    "scvi_de"
   ]
  },
  {
   "cell_type": "code",
   "execution_count": null,
   "id": "a3d7b2d5",
   "metadata": {},
   "outputs": [],
   "source": [
    "genes_to_show = scvi_de[-25:].index.tolist() + scvi_de[:25].index.tolist() #top 25 and bottom 25 from sorted df\n"
   ]
  },
  {
   "cell_type": "code",
   "execution_count": null,
   "id": "8effa416",
   "metadata": {},
   "outputs": [],
   "source": [
    "\n",
    "sc.pl.heatmap(subset, genes_to_show, groupby='cell_type', swap_axes=True, layer = 'scvi_normalized',\n",
    "              log = True)"
   ]
  },
  {
   "cell_type": "markdown",
   "id": "8a1d561b",
   "metadata": {},
   "source": [
    "# GO enrichment"
   ]
  },
  {
   "cell_type": "code",
   "execution_count": null,
   "id": "58881938",
   "metadata": {},
   "outputs": [],
   "source": [
    "import gseapy as gp #this method requires internet connection"
   ]
  },
  {
   "cell_type": "code",
   "execution_count": null,
   "id": "5ca499a2",
   "metadata": {},
   "outputs": [],
   "source": [
    "gp.get_library_name()\n",
    "# 'GO_Biological_Process_2021',\n",
    "#'KEGG_2021_Human',"
   ]
  },
  {
   "cell_type": "code",
   "execution_count": null,
   "id": "1bfd00f7",
   "metadata": {},
   "outputs": [],
   "source": [
    "subset"
   ]
  },
  {
   "cell_type": "code",
   "execution_count": null,
   "id": "6ac69ecb",
   "metadata": {},
   "outputs": [],
   "source": [
    "enr = gp.enrichr(gene_list= dedf[dedf.log2fc > 0].gene.tolist(),\n",
    "                 gene_sets=['KEGG_2021_Human','GO_Biological_Process_2021'],\n",
    "                 organism='human', # don't forget to set organism to the one you desired!\n",
    "                 outdir=None, # don't write to disk,\n",
    "                 background = subset.var_names.tolist()\n",
    "                )"
   ]
  },
  {
   "cell_type": "code",
   "execution_count": null,
   "id": "1692a622",
   "metadata": {},
   "outputs": [],
   "source": [
    "enr.results"
   ]
  },
  {
   "cell_type": "code",
   "execution_count": null,
   "id": "cbe7cdb7",
   "metadata": {},
   "outputs": [],
   "source": []
  },
  {
   "cell_type": "markdown",
   "id": "ceb278f9",
   "metadata": {},
   "source": [
    "## comparisons"
   ]
  },
  {
   "cell_type": "code",
   "execution_count": null,
   "id": "f5cdd5b1",
   "metadata": {},
   "outputs": [],
   "source": [
    "sc.pl.violin(subset[subset.obs.cell_type == 'AT2'], 'ETV5', groupby='condition')"
   ]
  },
  {
   "cell_type": "code",
   "execution_count": null,
   "id": "39810384",
   "metadata": {},
   "outputs": [],
   "source": [
    "from scipy import stats"
   ]
  },
  {
   "cell_type": "code",
   "execution_count": null,
   "id": "7ab2d2a9",
   "metadata": {},
   "outputs": [],
   "source": [
    "temp = subset[subset.obs.cell_type == 'AT2']\n",
    "\n",
    "i = np.where(temp.var_names == 'ETV5')[0][0]"
   ]
  },
  {
   "cell_type": "code",
   "execution_count": null,
   "id": "0e022a9a",
   "metadata": {},
   "outputs": [],
   "source": [
    "a = temp[temp.obs.condition == 'COVID19'].X[:,i]\n",
    "b = temp[temp.obs.condition == 'control'].X[:,i]"
   ]
  },
  {
   "cell_type": "code",
   "execution_count": null,
   "id": "09fd84bf",
   "metadata": {},
   "outputs": [],
   "source": [
    "stats.mannwhitneyu(a, b)"
   ]
  },
  {
   "cell_type": "markdown",
   "id": "5c50c638",
   "metadata": {},
   "source": [
    "## Score gene signature"
   ]
  },
  {
   "cell_type": "code",
   "execution_count": null,
   "id": "f4b68487",
   "metadata": {},
   "outputs": [],
   "source": [
    "#gene signature, ie, input list of genes from user\n",
    "with open('datp_sig.txt') as f:\n",
    "    datp_sig = [x.strip() for x in list(f)]\n"
   ]
  },
  {
   "cell_type": "code",
   "execution_count": null,
   "id": "73db4e1b",
   "metadata": {},
   "outputs": [],
   "source": [
    "sc.tl.score_genes(subset, datp_sig, score_name = 'datp')"
   ]
  },
  {
   "cell_type": "code",
   "execution_count": null,
   "id": "b7178f90",
   "metadata": {},
   "outputs": [],
   "source": [
    "subset.obs"
   ]
  },
  {
   "cell_type": "code",
   "execution_count": null,
   "id": "3366bca6",
   "metadata": {},
   "outputs": [],
   "source": [
    "sc.pl.violin(subset, 'datp', groupby='condition')"
   ]
  },
  {
   "cell_type": "code",
   "execution_count": null,
   "id": "3c2fea2d",
   "metadata": {},
   "outputs": [],
   "source": [
    "a = subset[subset.obs.condition == 'COVID19'].obs.datp.values\n",
    "b = subset[subset.obs.condition == 'control'].obs.datp.values\n",
    "stats.mannwhitneyu(a, b)"
   ]
  },
  {
   "cell_type": "code",
   "execution_count": null,
   "id": "f1cce0e6",
   "metadata": {},
   "outputs": [],
   "source": [
    "sc.pl.umap(subset, color = 'datp', vmax = 1)"
   ]
  },
  {
   "cell_type": "code",
   "execution_count": null,
   "id": "54c37b78",
   "metadata": {},
   "outputs": [],
   "source": []
  },
  {
   "cell_type": "code",
   "execution_count": null,
   "id": "c29386cb",
   "metadata": {},
   "outputs": [],
   "source": []
  },
  {
   "cell_type": "code",
   "execution_count": null,
   "id": "a89ad219",
   "metadata": {},
   "outputs": [],
   "source": []
  },
  {
   "cell_type": "code",
   "execution_count": null,
   "id": "2ace1300",
   "metadata": {},
   "outputs": [],
   "source": []
  },
  {
   "cell_type": "code",
   "execution_count": null,
   "id": "bab9c303",
   "metadata": {},
   "outputs": [],
   "source": []
  },
  {
   "cell_type": "code",
   "execution_count": null,
   "id": "2370a5fb",
   "metadata": {},
   "outputs": [],
   "source": [
    "#for thumbnail"
   ]
  },
  {
   "cell_type": "code",
   "execution_count": null,
   "id": "34222d83",
   "metadata": {},
   "outputs": [],
   "source": [
    "from matplotlib.pyplot import rc_context\n"
   ]
  },
  {
   "cell_type": "code",
   "execution_count": null,
   "id": "ba88a217",
   "metadata": {},
   "outputs": [],
   "source": [
    "adata"
   ]
  },
  {
   "cell_type": "code",
   "execution_count": null,
   "id": "6eec4ee1",
   "metadata": {},
   "outputs": [],
   "source": [
    "with rc_context({'figure.figsize': (8,8)}):\n",
    "    sc.pl.umap(adata, color = ['cell type'], frameon = False, s = 5, legend_loc = 'on data',\n",
    "              legend_fontsize=12, legend_fontoutline=2)"
   ]
  },
  {
   "cell_type": "code",
   "execution_count": null,
   "id": "ee1ac193",
   "metadata": {},
   "outputs": [],
   "source": [
    "with rc_context({'figure.figsize': (8,8)}):\n",
    "    sc.pl.umap(adata, color = ['MUC1'], frameon = False, layer = 'scvi_normalized', vmax = 5, s = 5)"
   ]
  },
  {
   "cell_type": "code",
   "execution_count": null,
   "id": "6003b83f",
   "metadata": {},
   "outputs": [],
   "source": []
  }
 ],
 "metadata": {
  "kernelspec": {
   "display_name": "Python 3 (ipykernel)",
   "language": "python",
   "name": "python3"
  },
  "language_info": {
   "codemirror_mode": {
    "name": "ipython",
    "version": 3
   },
   "file_extension": ".py",
   "mimetype": "text/x-python",
   "name": "python",
   "nbconvert_exporter": "python",
   "pygments_lexer": "ipython3",
   "version": "3.10.10"
  }
 },
 "nbformat": 4,
 "nbformat_minor": 5
}
